{
 "cells": [
  {
   "cell_type": "markdown",
   "id": "944a98fc-8260-4589-bac6-1028449d68be",
   "metadata": {},
   "source": [
    "Author: Judit Lozano Gondolbeu"
   ]
  },
  {
   "cell_type": "markdown",
   "id": "08940527",
   "metadata": {},
   "source": [
    "### Libraries"
   ]
  },
  {
   "cell_type": "code",
   "execution_count": 1,
   "id": "85b6aac9",
   "metadata": {},
   "outputs": [],
   "source": [
    "import pandas as pd\n",
    "import numpy as np\n",
    "import seaborn as sns\n",
    "from sklearn.model_selection import train_test_split, GridSearchCV\n",
    "from collections import Counter\n",
    "from sklearn.preprocessing import StandardScaler\n",
    "from sklearn.pipeline import Pipeline\n",
    "from sklearn.compose import ColumnTransformer\n",
    "import warnings\n",
    "import pickle\n",
    "import category_encoders as ce\n",
    "from sklearn.linear_model import LogisticRegression\n",
    "from sklearn.metrics import roc_auc_score\n",
    "from sklearn.model_selection import cross_val_score\n",
    "from sklearn.model_selection import RepeatedStratifiedKFold\n",
    "from imblearn.pipeline import Pipeline\n",
    "from imblearn.over_sampling import SMOTE\n",
    "from imblearn.under_sampling import RandomUnderSampler\n",
    "from numpy import mean\n",
    "import lightgbm as lgbm\n",
    "from sklearn.metrics import f1_score\n",
    "\n",
    "warnings.filterwarnings(\"ignore\")\n",
    "\n",
    "pd.set_option('display.max_columns', 500)\n",
    "pd.set_option('display.max_rows', 5000)"
   ]
  },
  {
   "cell_type": "code",
   "execution_count": 2,
   "id": "b5381d1a",
   "metadata": {},
   "outputs": [
    {
     "data": {
      "text/html": [
       "<div>\n",
       "<style scoped>\n",
       "    .dataframe tbody tr th:only-of-type {\n",
       "        vertical-align: middle;\n",
       "    }\n",
       "\n",
       "    .dataframe tbody tr th {\n",
       "        vertical-align: top;\n",
       "    }\n",
       "\n",
       "    .dataframe thead th {\n",
       "        text-align: right;\n",
       "    }\n",
       "</style>\n",
       "<table border=\"1\" class=\"dataframe\">\n",
       "  <thead>\n",
       "    <tr style=\"text-align: right;\">\n",
       "      <th></th>\n",
       "      <th>C_MNTH</th>\n",
       "      <th>C_WDAY</th>\n",
       "      <th>C_HOUR</th>\n",
       "      <th>C_RCFG</th>\n",
       "      <th>C_WTHR</th>\n",
       "      <th>C_RSUR</th>\n",
       "      <th>C_RALN</th>\n",
       "      <th>C_TRAF</th>\n",
       "      <th>V_TYPE</th>\n",
       "      <th>P_SAFE</th>\n",
       "      <th>V_YEAR</th>\n",
       "      <th>C_YEAR</th>\n",
       "      <th>P_AGE</th>\n",
       "      <th>P_SEX</th>\n",
       "      <th>TARGET</th>\n",
       "    </tr>\n",
       "  </thead>\n",
       "  <tbody>\n",
       "    <tr>\n",
       "      <th>0</th>\n",
       "      <td>1</td>\n",
       "      <td>1</td>\n",
       "      <td>20</td>\n",
       "      <td>50</td>\n",
       "      <td>1</td>\n",
       "      <td>5</td>\n",
       "      <td>3</td>\n",
       "      <td>3</td>\n",
       "      <td>6</td>\n",
       "      <td>50</td>\n",
       "      <td>1990</td>\n",
       "      <td>1999</td>\n",
       "      <td>41</td>\n",
       "      <td>0</td>\n",
       "      <td>0</td>\n",
       "    </tr>\n",
       "    <tr>\n",
       "      <th>1</th>\n",
       "      <td>1</td>\n",
       "      <td>1</td>\n",
       "      <td>20</td>\n",
       "      <td>50</td>\n",
       "      <td>1</td>\n",
       "      <td>5</td>\n",
       "      <td>3</td>\n",
       "      <td>3</td>\n",
       "      <td>1</td>\n",
       "      <td>50</td>\n",
       "      <td>1987</td>\n",
       "      <td>1999</td>\n",
       "      <td>19</td>\n",
       "      <td>0</td>\n",
       "      <td>0</td>\n",
       "    </tr>\n",
       "    <tr>\n",
       "      <th>2</th>\n",
       "      <td>1</td>\n",
       "      <td>1</td>\n",
       "      <td>8</td>\n",
       "      <td>50</td>\n",
       "      <td>5</td>\n",
       "      <td>3</td>\n",
       "      <td>6</td>\n",
       "      <td>18</td>\n",
       "      <td>1</td>\n",
       "      <td>50</td>\n",
       "      <td>1986</td>\n",
       "      <td>1999</td>\n",
       "      <td>46</td>\n",
       "      <td>0</td>\n",
       "      <td>0</td>\n",
       "    </tr>\n",
       "    <tr>\n",
       "      <th>3</th>\n",
       "      <td>1</td>\n",
       "      <td>1</td>\n",
       "      <td>17</td>\n",
       "      <td>56</td>\n",
       "      <td>1</td>\n",
       "      <td>2</td>\n",
       "      <td>1</td>\n",
       "      <td>1</td>\n",
       "      <td>1</td>\n",
       "      <td>50</td>\n",
       "      <td>1984</td>\n",
       "      <td>1999</td>\n",
       "      <td>28</td>\n",
       "      <td>0</td>\n",
       "      <td>0</td>\n",
       "    </tr>\n",
       "    <tr>\n",
       "      <th>4</th>\n",
       "      <td>1</td>\n",
       "      <td>1</td>\n",
       "      <td>17</td>\n",
       "      <td>56</td>\n",
       "      <td>1</td>\n",
       "      <td>2</td>\n",
       "      <td>1</td>\n",
       "      <td>1</td>\n",
       "      <td>1</td>\n",
       "      <td>50</td>\n",
       "      <td>1991</td>\n",
       "      <td>1999</td>\n",
       "      <td>21</td>\n",
       "      <td>0</td>\n",
       "      <td>0</td>\n",
       "    </tr>\n",
       "  </tbody>\n",
       "</table>\n",
       "</div>"
      ],
      "text/plain": [
       "   C_MNTH  C_WDAY  C_HOUR  C_RCFG  C_WTHR  C_RSUR  C_RALN  C_TRAF  V_TYPE  \\\n",
       "0       1       1      20      50       1       5       3       3       6   \n",
       "1       1       1      20      50       1       5       3       3       1   \n",
       "2       1       1       8      50       5       3       6      18       1   \n",
       "3       1       1      17      56       1       2       1       1       1   \n",
       "4       1       1      17      56       1       2       1       1       1   \n",
       "\n",
       "   P_SAFE  V_YEAR  C_YEAR  P_AGE  P_SEX  TARGET  \n",
       "0      50    1990    1999     41      0       0  \n",
       "1      50    1987    1999     19      0       0  \n",
       "2      50    1986    1999     46      0       0  \n",
       "3      50    1984    1999     28      0       0  \n",
       "4      50    1991    1999     21      0       0  "
      ]
     },
     "execution_count": 2,
     "metadata": {},
     "output_type": "execute_result"
    }
   ],
   "source": [
    "#Leemos nuestra tabla de nuevo\n",
    "df_data = pd.read_csv('../data/df_data.csv')\n",
    "df_data.head()"
   ]
  },
  {
   "cell_type": "markdown",
   "id": "bf9c180e-38ec-4504-b8ce-e7a02dbc635e",
   "metadata": {},
   "source": [
    "### Codificación de las variables\n",
    "Applicaremos la siguiente codificación según grupo de variables:"
   ]
  },
  {
   "cell_type": "code",
   "execution_count": 3,
   "id": "0c61da22-e2d6-4040-9a69-9bf9220d42f3",
   "metadata": {},
   "outputs": [],
   "source": [
    "#Grupos por encoding a realizar\n",
    "numeric_features = [\"V_YEAR\", 'C_YEAR', \"P_AGE\"] \n",
    "cat_features = list(set(df_data.drop('TARGET', axis=1).columns)-set(numeric_features))"
   ]
  },
  {
   "cell_type": "code",
   "execution_count": 4,
   "id": "98b50bbc-f3f7-45b8-9d77-00591e85099c",
   "metadata": {},
   "outputs": [],
   "source": [
    "df_data[cat_features] = df_data[cat_features].astype(object)"
   ]
  },
  {
   "cell_type": "code",
   "execution_count": 5,
   "id": "bed30efb-6f6b-4ad4-8575-74e8cbd00eb2",
   "metadata": {},
   "outputs": [
    {
     "data": {
      "text/plain": [
       "C_MNTH    object\n",
       "C_WDAY    object\n",
       "C_HOUR    object\n",
       "C_RCFG    object\n",
       "C_WTHR    object\n",
       "C_RSUR    object\n",
       "C_RALN    object\n",
       "C_TRAF    object\n",
       "V_TYPE    object\n",
       "P_SAFE    object\n",
       "V_YEAR     int64\n",
       "C_YEAR     int64\n",
       "P_AGE      int64\n",
       "P_SEX     object\n",
       "TARGET     int64\n",
       "dtype: object"
      ]
     },
     "execution_count": 5,
     "metadata": {},
     "output_type": "execute_result"
    }
   ],
   "source": [
    "df_data.dtypes"
   ]
  },
  {
   "cell_type": "code",
   "execution_count": 6,
   "id": "492d34ea-e985-429d-8ed9-ed5dc0494fb3",
   "metadata": {},
   "outputs": [],
   "source": [
    "#Definimos train y target\n",
    "target = df_data[['TARGET']]\n",
    "train = df_data.drop('TARGET', axis = 1)"
   ]
  },
  {
   "cell_type": "code",
   "execution_count": 7,
   "id": "b209de16-e490-4060-8f00-3407bf614763",
   "metadata": {},
   "outputs": [],
   "source": [
    "numeric_transformer = Pipeline(steps=[('scaler', StandardScaler())])\n",
    "categorical_transformer = ce.CatBoostEncoder()"
   ]
  },
  {
   "cell_type": "code",
   "execution_count": 8,
   "id": "4c75044a-ef54-45c0-a12d-39baf27daeb9",
   "metadata": {},
   "outputs": [],
   "source": [
    "preprocessor = ColumnTransformer(transformers=[('num', numeric_transformer, numeric_features),('cat', categorical_transformer, cat_features)])"
   ]
  },
  {
   "cell_type": "markdown",
   "id": "603290ad-eb7a-4879-a0fc-e7a0107dcccf",
   "metadata": {},
   "source": [
    "Parametros obtenidos en nuestro estudio de car-accidents:"
   ]
  },
  {
   "cell_type": "code",
   "execution_count": 9,
   "id": "49b5b0da-754d-493c-a224-2dc439d5b898",
   "metadata": {},
   "outputs": [],
   "source": [
    "parametros={'class_weight': {0: 0.2, 1: 0.8}, 'learning_rate': 0.01, 'n_estimators': 1000, 'num_leaves': 50, 'random_state':100}"
   ]
  },
  {
   "cell_type": "code",
   "execution_count": 10,
   "id": "7fbdec9b-2852-495d-90ab-3fdff06734a3",
   "metadata": {},
   "outputs": [],
   "source": [
    "modelo = Pipeline(steps=[('preprocessor', preprocessor),('model', lgbm.LGBMClassifier(**parametros))])"
   ]
  },
  {
   "cell_type": "markdown",
   "id": "cf5ddea2-05c2-41cb-8da2-34926d7877a4",
   "metadata": {},
   "source": [
    "### Dividimos el dataset en train y test\n",
    "Dividimos el dataset en train y test manteniendo la proporción de la variable objetivo en las dos partes (separación estratificada)"
   ]
  },
  {
   "cell_type": "code",
   "execution_count": 11,
   "id": "141c6987-c52c-45c6-b946-cf7b25539c4c",
   "metadata": {},
   "outputs": [],
   "source": [
    "X = train\n",
    "y = target"
   ]
  },
  {
   "cell_type": "code",
   "execution_count": 12,
   "id": "107d55ea-663a-4787-8927-9bfb1fe1df56",
   "metadata": {},
   "outputs": [],
   "source": [
    "X_train, X_test, y_train, y_test = train_test_split(X, y, stratify=y, shuffle=True, test_size=0.20, random_state=0)"
   ]
  },
  {
   "cell_type": "code",
   "execution_count": 13,
   "id": "388e3b28-a224-4289-8e07-028a74e465c8",
   "metadata": {},
   "outputs": [
    {
     "name": "stdout",
     "output_type": "stream",
     "text": [
      "TARGET\n",
      "0         0.985431\n",
      "1         0.014569\n",
      "dtype: float64\n",
      "TARGET\n",
      "0         0.985432\n",
      "1         0.014568\n",
      "dtype: float64\n"
     ]
    }
   ],
   "source": [
    "#comprobación de la estratificación\n",
    "print(y_train.value_counts(normalize=True))\n",
    "print(y_test.value_counts(normalize=True))"
   ]
  },
  {
   "cell_type": "markdown",
   "id": "4f79bcec-4f2b-4222-8520-1227e18eb8ca",
   "metadata": {},
   "source": [
    "### Problema de desbalanceo de datos"
   ]
  },
  {
   "cell_type": "markdown",
   "id": "dd704596-cb54-466b-9575-055ed16f01be",
   "metadata": {},
   "source": [
    "Para solventar este problema probaremos con la técnica SMOTE."
   ]
  },
  {
   "cell_type": "markdown",
   "id": "61abe7f7-d5ff-474d-8a37-f1e3912f7e0f",
   "metadata": {},
   "source": [
    "### SMOTE\n",
    "SMOTE realiza un oversample de la clase minoritaria segun la configuracion que le demos (Ej: strategy, k-values). Por defecto, el K-value es 5 pero en este caso usaremos un k-value = 6 como ya discutimos en el estudio anterior."
   ]
  },
  {
   "cell_type": "code",
   "execution_count": 14,
   "id": "b19646a3-64ec-4c71-a6c2-2f9af0c36d2d",
   "metadata": {},
   "outputs": [
    {
     "name": "stdout",
     "output_type": "stream",
     "text": [
      "Antes de SMOTE  TARGET\n",
      "0         3095110\n",
      "1           45758\n",
      "dtype: int64\n",
      "Despues de SMOTE  TARGET\n",
      "0         1547555\n",
      "1          309511\n",
      "dtype: int64\n"
     ]
    }
   ],
   "source": [
    "over = SMOTE(sampling_strategy=0.1, k_neighbors=6)\n",
    "under = RandomUnderSampler(sampling_strategy=0.2)\n",
    "steps = [('over', over), ('under', under)]\n",
    "oversample = Pipeline(steps=steps)\n",
    "\n",
    "# transformación del dataset\n",
    "X_train_sm, y_train_sm = oversample.fit_resample(X_train, y_train)\n",
    "\n",
    "counter = y_train.value_counts()\n",
    "print(\"Antes de SMOTE \", counter)\n",
    "\n",
    "counter2 = y_train_sm.value_counts()\n",
    "print(\"Despues de SMOTE \", counter2)"
   ]
  },
  {
   "cell_type": "code",
   "execution_count": 15,
   "id": "dc33bdbc-76f7-4171-9fe7-421f37964b19",
   "metadata": {},
   "outputs": [
    {
     "data": {
      "text/plain": [
       "Pipeline(steps=[('preprocessor',\n",
       "                 ColumnTransformer(transformers=[('num',\n",
       "                                                  Pipeline(steps=[('scaler',\n",
       "                                                                   StandardScaler())]),\n",
       "                                                  ['V_YEAR', 'C_YEAR',\n",
       "                                                   'P_AGE']),\n",
       "                                                 ('cat', CatBoostEncoder(),\n",
       "                                                  ['V_TYPE', 'C_RALN', 'C_RSUR',\n",
       "                                                   'C_MNTH', 'C_HOUR', 'P_SEX',\n",
       "                                                   'C_WTHR', 'C_RCFG', 'C_WDAY',\n",
       "                                                   'P_SAFE', 'C_TRAF'])])),\n",
       "                ('model',\n",
       "                 LGBMClassifier(class_weight={0: 0.2, 1: 0.8},\n",
       "                                learning_rate=0.01, n_estimators=1000,\n",
       "                                num_leaves=50, random_state=100))])"
      ]
     },
     "execution_count": 15,
     "metadata": {},
     "output_type": "execute_result"
    }
   ],
   "source": [
    "# train the model on train set\n",
    "modelo.fit(X_train_sm, y_train_sm)"
   ]
  },
  {
   "cell_type": "markdown",
   "id": "04e8748b-bc67-48b3-929a-09e4f0ea0974",
   "metadata": {},
   "source": [
    "### Guardamos el modelo entrenado para su posterior utilización"
   ]
  },
  {
   "cell_type": "code",
   "execution_count": 16,
   "id": "28a5d7cf-4422-46e9-b1f9-bce68fbdb364",
   "metadata": {},
   "outputs": [],
   "source": [
    "#me guardo el modelo entrenado para su posterior utilización\n",
    "with open('../models/model_flask.pickle', 'wb') as f:\n",
    "    pickle.dump(modelo, f)"
   ]
  },
  {
   "cell_type": "code",
   "execution_count": 17,
   "id": "b613bc3a-1136-4777-b190-0ca4a272eb79",
   "metadata": {},
   "outputs": [],
   "source": [
    "#para traer de nuevo las variables:\n",
    "#with open('../data/train_smote.pickle', 'rb') as f:\n",
    "    #X_train_sm, y_train_sm, X_test, y_test = pickle.load(f)"
   ]
  }
 ],
 "metadata": {
  "kernelspec": {
   "display_name": "Python [conda env:practica_ml]",
   "language": "python",
   "name": "conda-env-practica_ml-py"
  },
  "language_info": {
   "codemirror_mode": {
    "name": "ipython",
    "version": 3
   },
   "file_extension": ".py",
   "mimetype": "text/x-python",
   "name": "python",
   "nbconvert_exporter": "python",
   "pygments_lexer": "ipython3",
   "version": "3.9.7"
  }
 },
 "nbformat": 4,
 "nbformat_minor": 5
}
