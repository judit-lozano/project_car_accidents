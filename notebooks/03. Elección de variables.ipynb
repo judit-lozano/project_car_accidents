{
 "cells": [
  {
   "cell_type": "markdown",
   "id": "785b2767-5d1e-4ada-84b0-270ce6c07fc5",
   "metadata": {},
   "source": [
    "Author: Judit Lozano Gondolbeu"
   ]
  },
  {
   "cell_type": "markdown",
   "id": "08940527",
   "metadata": {},
   "source": [
    "### Libraries"
   ]
  },
  {
   "cell_type": "code",
   "execution_count": 1,
   "id": "85b6aac9",
   "metadata": {},
   "outputs": [],
   "source": [
    "import pandas as pd\n",
    "import numpy as np\n",
    "from sklearn.model_selection import GridSearchCV\n",
    "from sklearn.pipeline import Pipeline\n",
    "import warnings\n",
    "import pickle\n",
    "from sklearn.linear_model import LogisticRegression\n",
    "from sklearn.linear_model import TweedieRegressor\n",
    "from sklearn.feature_selection import SelectFromModel\n",
    "from sklearn.decomposition import PCA\n",
    "from matplotlib import pyplot as plt\n",
    "\n",
    "warnings.filterwarnings(\"ignore\")\n",
    "\n",
    "pd.set_option('display.max_columns', 500)\n",
    "pd.set_option('display.max_rows', 5000)"
   ]
  },
  {
   "cell_type": "code",
   "execution_count": 2,
   "id": "418bcaf3-b75f-4216-96d0-913df02eeae2",
   "metadata": {},
   "outputs": [],
   "source": [
    "#with open('train.pickle', 'wb') as f:\n",
    "    #pickle.dump([X_train, y_train, X_test, y_test], f)"
   ]
  },
  {
   "cell_type": "code",
   "execution_count": 3,
   "id": "f8e45556-f186-4d6e-b217-deeed9d58f68",
   "metadata": {},
   "outputs": [],
   "source": [
    "#Cargamos las variables ya preparadas\n",
    "with open('../data/train_smote.pickle', 'rb') as f:\n",
    "    X_train_sm, y_train_sm, X_test, y_test = pickle.load(f)"
   ]
  },
  {
   "cell_type": "code",
   "execution_count": 4,
   "id": "058ef621-6cb0-4349-b5a1-265444ac7078",
   "metadata": {},
   "outputs": [
    {
     "data": {
      "text/html": [
       "<div>\n",
       "<style scoped>\n",
       "    .dataframe tbody tr th:only-of-type {\n",
       "        vertical-align: middle;\n",
       "    }\n",
       "\n",
       "    .dataframe tbody tr th {\n",
       "        vertical-align: top;\n",
       "    }\n",
       "\n",
       "    .dataframe thead th {\n",
       "        text-align: right;\n",
       "    }\n",
       "</style>\n",
       "<table border=\"1\" class=\"dataframe\">\n",
       "  <thead>\n",
       "    <tr style=\"text-align: right;\">\n",
       "      <th></th>\n",
       "      <th>C_MNTH</th>\n",
       "      <th>C_WDAY</th>\n",
       "      <th>C_HOUR</th>\n",
       "      <th>C_RCFG</th>\n",
       "      <th>C_WTHR</th>\n",
       "      <th>C_RSUR</th>\n",
       "      <th>C_RALN</th>\n",
       "      <th>C_TRAF</th>\n",
       "      <th>V_TYPE</th>\n",
       "      <th>P_SAFE</th>\n",
       "      <th>V_YEAR</th>\n",
       "      <th>C_YEAR</th>\n",
       "      <th>P_AGE</th>\n",
       "      <th>P_SEX</th>\n",
       "      <th>PP_CAR</th>\n",
       "    </tr>\n",
       "  </thead>\n",
       "  <tbody>\n",
       "    <tr>\n",
       "      <th>0</th>\n",
       "      <td>-1.129054</td>\n",
       "      <td>1.375704</td>\n",
       "      <td>0.651298</td>\n",
       "      <td>-0.824320</td>\n",
       "      <td>0.948994</td>\n",
       "      <td>-1.036199</td>\n",
       "      <td>0.531235</td>\n",
       "      <td>-0.363466</td>\n",
       "      <td>-0.251504</td>\n",
       "      <td>-0.225190</td>\n",
       "      <td>-0.118230</td>\n",
       "      <td>0.437172</td>\n",
       "      <td>-0.963827</td>\n",
       "      <td>0.816670</td>\n",
       "      <td>-1.450629</td>\n",
       "    </tr>\n",
       "    <tr>\n",
       "      <th>1</th>\n",
       "      <td>-1.129054</td>\n",
       "      <td>-0.417392</td>\n",
       "      <td>-0.779007</td>\n",
       "      <td>-0.824320</td>\n",
       "      <td>-0.246324</td>\n",
       "      <td>0.043446</td>\n",
       "      <td>-0.353054</td>\n",
       "      <td>-1.353824</td>\n",
       "      <td>-0.251504</td>\n",
       "      <td>-0.225190</td>\n",
       "      <td>0.097020</td>\n",
       "      <td>0.656122</td>\n",
       "      <td>-0.591176</td>\n",
       "      <td>-1.219878</td>\n",
       "      <td>0.839152</td>\n",
       "    </tr>\n",
       "    <tr>\n",
       "      <th>2</th>\n",
       "      <td>0.183556</td>\n",
       "      <td>-0.417392</td>\n",
       "      <td>-0.646253</td>\n",
       "      <td>1.246626</td>\n",
       "      <td>-0.246324</td>\n",
       "      <td>0.043446</td>\n",
       "      <td>-0.353054</td>\n",
       "      <td>-0.318034</td>\n",
       "      <td>-0.251504</td>\n",
       "      <td>0.074408</td>\n",
       "      <td>-0.154105</td>\n",
       "      <td>1.312973</td>\n",
       "      <td>-0.692808</td>\n",
       "      <td>-1.219878</td>\n",
       "      <td>0.839152</td>\n",
       "    </tr>\n",
       "    <tr>\n",
       "      <th>3</th>\n",
       "      <td>1.797639</td>\n",
       "      <td>-0.899118</td>\n",
       "      <td>-0.359585</td>\n",
       "      <td>1.246626</td>\n",
       "      <td>-0.246324</td>\n",
       "      <td>0.043446</td>\n",
       "      <td>-0.353054</td>\n",
       "      <td>0.851024</td>\n",
       "      <td>-0.711926</td>\n",
       "      <td>-0.369937</td>\n",
       "      <td>3.433395</td>\n",
       "      <td>0.437172</td>\n",
       "      <td>-0.828318</td>\n",
       "      <td>-1.219878</td>\n",
       "      <td>0.174065</td>\n",
       "    </tr>\n",
       "    <tr>\n",
       "      <th>4</th>\n",
       "      <td>-1.413490</td>\n",
       "      <td>-0.504111</td>\n",
       "      <td>-0.556747</td>\n",
       "      <td>-0.605457</td>\n",
       "      <td>0.909085</td>\n",
       "      <td>1.458426</td>\n",
       "      <td>-1.210185</td>\n",
       "      <td>-1.353824</td>\n",
       "      <td>-0.251504</td>\n",
       "      <td>-0.225190</td>\n",
       "      <td>-0.261729</td>\n",
       "      <td>-0.438630</td>\n",
       "      <td>-0.658931</td>\n",
       "      <td>-1.219878</td>\n",
       "      <td>0.839152</td>\n",
       "    </tr>\n",
       "  </tbody>\n",
       "</table>\n",
       "</div>"
      ],
      "text/plain": [
       "     C_MNTH    C_WDAY    C_HOUR    C_RCFG    C_WTHR    C_RSUR    C_RALN  \\\n",
       "0 -1.129054  1.375704  0.651298 -0.824320  0.948994 -1.036199  0.531235   \n",
       "1 -1.129054 -0.417392 -0.779007 -0.824320 -0.246324  0.043446 -0.353054   \n",
       "2  0.183556 -0.417392 -0.646253  1.246626 -0.246324  0.043446 -0.353054   \n",
       "3  1.797639 -0.899118 -0.359585  1.246626 -0.246324  0.043446 -0.353054   \n",
       "4 -1.413490 -0.504111 -0.556747 -0.605457  0.909085  1.458426 -1.210185   \n",
       "\n",
       "     C_TRAF    V_TYPE    P_SAFE    V_YEAR    C_YEAR     P_AGE     P_SEX  \\\n",
       "0 -0.363466 -0.251504 -0.225190 -0.118230  0.437172 -0.963827  0.816670   \n",
       "1 -1.353824 -0.251504 -0.225190  0.097020  0.656122 -0.591176 -1.219878   \n",
       "2 -0.318034 -0.251504  0.074408 -0.154105  1.312973 -0.692808 -1.219878   \n",
       "3  0.851024 -0.711926 -0.369937  3.433395  0.437172 -0.828318 -1.219878   \n",
       "4 -1.353824 -0.251504 -0.225190 -0.261729 -0.438630 -0.658931 -1.219878   \n",
       "\n",
       "     PP_CAR  \n",
       "0 -1.450629  \n",
       "1  0.839152  \n",
       "2  0.839152  \n",
       "3  0.174065  \n",
       "4  0.839152  "
      ]
     },
     "execution_count": 4,
     "metadata": {},
     "output_type": "execute_result"
    }
   ],
   "source": [
    "X_train_sm.head()"
   ]
  },
  {
   "cell_type": "markdown",
   "id": "6eb336a2-6125-4afd-8dcc-69ef09bc8ad5",
   "metadata": {},
   "source": [
    "### Reducción de la dimensionalidad\n",
    "Para evitar problemas de tiempo en la ejecución de los modelos debido al tamaño del dataset, procederemos a reducir la dimensionalidad de nuestro dataset:"
   ]
  },
  {
   "cell_type": "markdown",
   "id": "c5b74477-5831-4f37-98a0-c156171a6105",
   "metadata": {},
   "source": [
    "### Regularización Ridge"
   ]
  },
  {
   "cell_type": "code",
   "execution_count": 5,
   "id": "087109c8-88c8-40cc-b9c5-003a674ef098",
   "metadata": {},
   "outputs": [
    {
     "data": {
      "text/plain": [
       "SelectFromModel(estimator=LogisticRegression(C=1), threshold=0.05)"
      ]
     },
     "execution_count": 5,
     "metadata": {},
     "output_type": "execute_result"
    }
   ],
   "source": [
    "sel_ridge = SelectFromModel(LogisticRegression(C=1, penalty='l2'), threshold = 0.05)\n",
    "sel_ridge.fit(X_train_sm, y_train_sm)"
   ]
  },
  {
   "cell_type": "code",
   "execution_count": 6,
   "id": "dfe04b7d-cb63-47ff-8412-d5f380657c98",
   "metadata": {},
   "outputs": [
    {
     "data": {
      "image/png": "[encoded data removed]",
      "text/plain": [
       "<Figure size 1152x276.48 with 1 Axes>"
      ]
     },
     "metadata": {
      "needs_background": "light"
     },
     "output_type": "display_data"
    }
   ],
   "source": [
    "# Coeficientes del modelo\n",
    "# ==============================================================================\n",
    "df_coeficientes = pd.DataFrame(\n",
    "                        {'predictor': X_train_sm.columns,\n",
    "                         'coef': sel_ridge.estimator_.coef_.flatten()}\n",
    "                  )\n",
    "\n",
    "fig, ax = plt.subplots(figsize=(16, 3.84))\n",
    "ax.stem(df_coeficientes.predictor, df_coeficientes.coef, markerfmt=' ')\n",
    "plt.xticks(rotation=90, ha='right', size=10)\n",
    "ax.set_xlabel('variable')\n",
    "ax.set_ylabel('coeficientes')\n",
    "ax.set_title('Coeficientes del modelo ridge');"
   ]
  },
  {
   "cell_type": "code",
   "execution_count": 7,
   "id": "6c5d869f-eba6-4896-bf62-6111be741ea5",
   "metadata": {},
   "outputs": [
    {
     "data": {
      "text/plain": [
       "Index(['C_MNTH', 'C_WDAY', 'C_HOUR', 'C_RCFG', 'C_WTHR', 'C_RALN', 'C_TRAF',\n",
       "       'V_TYPE', 'P_SAFE', 'V_YEAR', 'P_AGE', 'P_SEX', 'PP_CAR'],\n",
       "      dtype='object')"
      ]
     },
     "execution_count": 7,
     "metadata": {},
     "output_type": "execute_result"
    }
   ],
   "source": [
    "sel_ridge.get_support()\n",
    "selected_feat = X_train_sm.columns[sel_ridge.get_support()]\n",
    "selected_feat"
   ]
  },
  {
   "cell_type": "code",
   "execution_count": 8,
   "id": "3526bb98-8737-4177-b3af-0dd5f026baf8",
   "metadata": {},
   "outputs": [
    {
     "name": "stdout",
     "output_type": "stream",
     "text": [
      "total features: 15\n",
      "selected features: 13\n"
     ]
    }
   ],
   "source": [
    "print('total features: {}'.format((X_train_sm.shape[1])))\n",
    "print('selected features: {}'.format(len(selected_feat)))"
   ]
  },
  {
   "cell_type": "markdown",
   "id": "728bb9e3-d9fc-4728-bc2d-2209399f108e",
   "metadata": {},
   "source": [
    "Quitaremos dos variables que no tienen mucha importancia según el modelo ridge: C_RSUR y C_YEAR"
   ]
  },
  {
   "cell_type": "markdown",
   "id": "eedb847d-69a1-40fe-9060-5b212572c5a6",
   "metadata": {},
   "source": [
    "### PCA"
   ]
  },
  {
   "cell_type": "code",
   "execution_count": 9,
   "id": "7f710665-29a0-40e2-a97c-0de73cc61a02",
   "metadata": {},
   "outputs": [],
   "source": [
    "pca = PCA()#primero lo hago sin fijar el número de componentes para visualizar la varianza\n",
    "\n",
    "pca.fit(X_train_sm[selected_feat])\n",
    "X_train_pca = pca.transform(X_train_sm[selected_feat])\n",
    "X_test_pca = pca.transform(X_test[selected_feat])"
   ]
  },
  {
   "cell_type": "code",
   "execution_count": 10,
   "id": "d8e5e9dd-86e9-46d2-b52b-6e00eb0e5a9f",
   "metadata": {},
   "outputs": [
    {
     "data": {
      "image/png": "[encoded data removed]",
      "text/plain": [
       "<Figure size 960x480 with 1 Axes>"
      ]
     },
     "metadata": {
      "needs_background": "light"
     },
     "output_type": "display_data"
    }
   ],
   "source": [
    "exp_var_pca = pca.explained_variance_ratio_\n",
    "\n",
    "cum_sum_eigenvalues = np.cumsum(exp_var_pca)\n",
    "\n",
    "threshold = 0.95\n",
    "plt.figure(figsize=(12, 6), dpi=80)\n",
    "plt.bar(range(0,len(exp_var_pca)), exp_var_pca, alpha=0.5, align='center', label='Individual explained variance')\n",
    "plt.step(range(0,len(cum_sum_eigenvalues)), cum_sum_eigenvalues, where='mid',label='Cumulative explained variance')\n",
    "plt.axhline(y=threshold, color='r', linestyle='-')\n",
    "\n",
    "plt.ylabel('Explained variance ratio')\n",
    "plt.xlabel('Principal component index')\n",
    "plt.legend(loc='best')\n",
    "plt.tight_layout()\n",
    "plt.show()"
   ]
  },
  {
   "cell_type": "markdown",
   "id": "3d715545-5783-4c63-916d-0e77ef5288cb",
   "metadata": {},
   "source": [
    "Decidimos quedarnos con las 13 variables seleccionadas por el modelo Ridge y no reducimos más porque como muestra la gráfica del PCA, la varianza no se estabiliza en ningún punto en concreto como para cortar y quedarnos con un menor número de componentes."
   ]
  },
  {
   "cell_type": "code",
   "execution_count": 11,
   "id": "5d9d7d35-893b-4562-9dd8-5317ac8bc26d",
   "metadata": {},
   "outputs": [],
   "source": [
    "X_train = X_train_sm[selected_feat]\n",
    "X_test = X_test[selected_feat]\n",
    "y_train = y_train_sm\n",
    "\n",
    "#nos guardamos las variables después de aplicar la reduccion de Ridge\n",
    "with open('../data/train_ridge.pickle', 'wb') as f:\n",
    "    pickle.dump([X_train, y_train, X_test, y_test],f)"
   ]
  }
 ],
 "metadata": {
  "kernelspec": {
   "display_name": "Python [conda env:practica_ml]",
   "language": "python",
   "name": "conda-env-practica_ml-py"
  },
  "language_info": {
   "codemirror_mode": {
    "name": "ipython",
    "version": 3
   },
   "file_extension": ".py",
   "mimetype": "text/x-python",
   "name": "python",
   "nbconvert_exporter": "python",
   "pygments_lexer": "ipython3",
   "version": "3.9.7"
  }
 },
 "nbformat": 4,
 "nbformat_minor": 5
}
