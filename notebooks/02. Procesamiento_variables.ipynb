{
 "cells": [
  {
   "cell_type": "markdown",
   "id": "944a98fc-8260-4589-bac6-1028449d68be",
   "metadata": {},
   "source": [
    "Author: Judit Lozano Gondolbeu"
   ]
  },
  {
   "cell_type": "markdown",
   "id": "08940527",
   "metadata": {},
   "source": [
    "### Libraries"
   ]
  },
  {
   "cell_type": "code",
   "execution_count": 1,
   "id": "85b6aac9",
   "metadata": {},
   "outputs": [],
   "source": [
    "import pandas as pd\n",
    "import numpy as np\n",
    "import seaborn as sns\n",
    "from sklearn.model_selection import train_test_split, GridSearchCV\n",
    "from collections import Counter\n",
    "from sklearn.preprocessing import StandardScaler\n",
    "from sklearn.pipeline import Pipeline\n",
    "import warnings\n",
    "import pickle\n",
    "import category_encoders as ce\n",
    "from sklearn.linear_model import LogisticRegression\n",
    "from sklearn.metrics import roc_auc_score\n",
    "from sklearn.model_selection import cross_val_score\n",
    "from sklearn.model_selection import RepeatedStratifiedKFold\n",
    "from imblearn.pipeline import Pipeline\n",
    "from imblearn.over_sampling import SMOTE\n",
    "from imblearn.under_sampling import RandomUnderSampler\n",
    "from numpy import mean\n",
    "\n",
    "warnings.filterwarnings(\"ignore\")\n",
    "\n",
    "pd.set_option('display.max_columns', 500)\n",
    "pd.set_option('display.max_rows', 5000)"
   ]
  },
  {
   "cell_type": "code",
   "execution_count": 3,
   "id": "b5381d1a",
   "metadata": {},
   "outputs": [
    {
     "data": {
      "text/html": [
       "<div>\n",
       "<style scoped>\n",
       "    .dataframe tbody tr th:only-of-type {\n",
       "        vertical-align: middle;\n",
       "    }\n",
       "\n",
       "    .dataframe tbody tr th {\n",
       "        vertical-align: top;\n",
       "    }\n",
       "\n",
       "    .dataframe thead th {\n",
       "        text-align: right;\n",
       "    }\n",
       "</style>\n",
       "<table border=\"1\" class=\"dataframe\">\n",
       "  <thead>\n",
       "    <tr style=\"text-align: right;\">\n",
       "      <th></th>\n",
       "      <th>C_MNTH</th>\n",
       "      <th>C_WDAY</th>\n",
       "      <th>C_HOUR</th>\n",
       "      <th>C_RCFG</th>\n",
       "      <th>C_WTHR</th>\n",
       "      <th>C_RSUR</th>\n",
       "      <th>C_RALN</th>\n",
       "      <th>C_TRAF</th>\n",
       "      <th>V_TYPE</th>\n",
       "      <th>P_SAFE</th>\n",
       "      <th>V_YEAR</th>\n",
       "      <th>C_YEAR</th>\n",
       "      <th>P_AGE</th>\n",
       "      <th>P_SEX</th>\n",
       "      <th>PP_CAR</th>\n",
       "      <th>TARGET</th>\n",
       "    </tr>\n",
       "  </thead>\n",
       "  <tbody>\n",
       "    <tr>\n",
       "      <th>0</th>\n",
       "      <td>1</td>\n",
       "      <td>1</td>\n",
       "      <td>20</td>\n",
       "      <td>50</td>\n",
       "      <td>1</td>\n",
       "      <td>5</td>\n",
       "      <td>3</td>\n",
       "      <td>3</td>\n",
       "      <td>6</td>\n",
       "      <td>50</td>\n",
       "      <td>1990</td>\n",
       "      <td>1999</td>\n",
       "      <td>41</td>\n",
       "      <td>0</td>\n",
       "      <td>1</td>\n",
       "      <td>0</td>\n",
       "    </tr>\n",
       "    <tr>\n",
       "      <th>1</th>\n",
       "      <td>1</td>\n",
       "      <td>1</td>\n",
       "      <td>20</td>\n",
       "      <td>50</td>\n",
       "      <td>1</td>\n",
       "      <td>5</td>\n",
       "      <td>3</td>\n",
       "      <td>3</td>\n",
       "      <td>1</td>\n",
       "      <td>50</td>\n",
       "      <td>1987</td>\n",
       "      <td>1999</td>\n",
       "      <td>19</td>\n",
       "      <td>0</td>\n",
       "      <td>2</td>\n",
       "      <td>0</td>\n",
       "    </tr>\n",
       "    <tr>\n",
       "      <th>2</th>\n",
       "      <td>1</td>\n",
       "      <td>1</td>\n",
       "      <td>8</td>\n",
       "      <td>50</td>\n",
       "      <td>5</td>\n",
       "      <td>3</td>\n",
       "      <td>6</td>\n",
       "      <td>18</td>\n",
       "      <td>1</td>\n",
       "      <td>50</td>\n",
       "      <td>1986</td>\n",
       "      <td>1999</td>\n",
       "      <td>46</td>\n",
       "      <td>0</td>\n",
       "      <td>1</td>\n",
       "      <td>0</td>\n",
       "    </tr>\n",
       "    <tr>\n",
       "      <th>3</th>\n",
       "      <td>1</td>\n",
       "      <td>1</td>\n",
       "      <td>17</td>\n",
       "      <td>56</td>\n",
       "      <td>1</td>\n",
       "      <td>2</td>\n",
       "      <td>1</td>\n",
       "      <td>1</td>\n",
       "      <td>1</td>\n",
       "      <td>50</td>\n",
       "      <td>1984</td>\n",
       "      <td>1999</td>\n",
       "      <td>28</td>\n",
       "      <td>0</td>\n",
       "      <td>1</td>\n",
       "      <td>0</td>\n",
       "    </tr>\n",
       "    <tr>\n",
       "      <th>4</th>\n",
       "      <td>1</td>\n",
       "      <td>1</td>\n",
       "      <td>17</td>\n",
       "      <td>56</td>\n",
       "      <td>1</td>\n",
       "      <td>2</td>\n",
       "      <td>1</td>\n",
       "      <td>1</td>\n",
       "      <td>1</td>\n",
       "      <td>50</td>\n",
       "      <td>1991</td>\n",
       "      <td>1999</td>\n",
       "      <td>21</td>\n",
       "      <td>0</td>\n",
       "      <td>2</td>\n",
       "      <td>0</td>\n",
       "    </tr>\n",
       "  </tbody>\n",
       "</table>\n",
       "</div>"
      ],
      "text/plain": [
       "   C_MNTH  C_WDAY  C_HOUR  C_RCFG  C_WTHR  C_RSUR  C_RALN  C_TRAF  V_TYPE  \\\n",
       "0       1       1      20      50       1       5       3       3       6   \n",
       "1       1       1      20      50       1       5       3       3       1   \n",
       "2       1       1       8      50       5       3       6      18       1   \n",
       "3       1       1      17      56       1       2       1       1       1   \n",
       "4       1       1      17      56       1       2       1       1       1   \n",
       "\n",
       "   P_SAFE  V_YEAR  C_YEAR  P_AGE  P_SEX  PP_CAR  TARGET  \n",
       "0      50    1990    1999     41      0       1       0  \n",
       "1      50    1987    1999     19      0       2       0  \n",
       "2      50    1986    1999     46      0       1       0  \n",
       "3      50    1984    1999     28      0       1       0  \n",
       "4      50    1991    1999     21      0       2       0  "
      ]
     },
     "execution_count": 3,
     "metadata": {},
     "output_type": "execute_result"
    }
   ],
   "source": [
    "#Leemos nuestra tabla de nuevo\n",
    "df_data = pd.read_csv('../data/df_data.csv')\n",
    "df_data.head()"
   ]
  },
  {
   "cell_type": "markdown",
   "id": "bf9c180e-38ec-4504-b8ce-e7a02dbc635e",
   "metadata": {},
   "source": [
    "### Codificación de las variables\n",
    "Applicaremos la siguiente codificación según grupo de variables:"
   ]
  },
  {
   "cell_type": "code",
   "execution_count": 34,
   "id": "0c61da22-e2d6-4040-9a69-9bf9220d42f3",
   "metadata": {},
   "outputs": [],
   "source": [
    "#Grupos por encoding a realizar\n",
    "numeric_features = [\"V_YEAR\", 'C_YEAR', \"P_AGE\"] \n",
    "cat_features = list(set(df_data.drop('TARGET', axis=1).columns)-set(numeric_features))"
   ]
  },
  {
   "cell_type": "code",
   "execution_count": 5,
   "id": "98b50bbc-f3f7-45b8-9d77-00591e85099c",
   "metadata": {},
   "outputs": [],
   "source": [
    "df_data[cat_features] = df_data[cat_features].astype(object)"
   ]
  },
  {
   "cell_type": "code",
   "execution_count": 6,
   "id": "bed30efb-6f6b-4ad4-8575-74e8cbd00eb2",
   "metadata": {},
   "outputs": [
    {
     "data": {
      "text/plain": [
       "C_MNTH    object\n",
       "C_WDAY    object\n",
       "C_HOUR    object\n",
       "C_RCFG    object\n",
       "C_WTHR    object\n",
       "C_RSUR    object\n",
       "C_RALN    object\n",
       "C_TRAF    object\n",
       "V_TYPE    object\n",
       "P_SAFE    object\n",
       "V_YEAR     int64\n",
       "C_YEAR     int64\n",
       "P_AGE      int64\n",
       "P_SEX     object\n",
       "PP_CAR    object\n",
       "TARGET     int64\n",
       "dtype: object"
      ]
     },
     "execution_count": 6,
     "metadata": {},
     "output_type": "execute_result"
    }
   ],
   "source": [
    "df_data.dtypes"
   ]
  },
  {
   "cell_type": "code",
   "execution_count": 7,
   "id": "492d34ea-e985-429d-8ed9-ed5dc0494fb3",
   "metadata": {},
   "outputs": [],
   "source": [
    "#Definimos train y target\n",
    "target = df_data[['TARGET']]\n",
    "train = df_data.drop('TARGET', axis = 1)"
   ]
  },
  {
   "cell_type": "code",
   "execution_count": 8,
   "id": "76f1277e-1c5b-47d4-a5c5-75a55baa885f",
   "metadata": {},
   "outputs": [
    {
     "data": {
      "text/html": [
       "<div>\n",
       "<style scoped>\n",
       "    .dataframe tbody tr th:only-of-type {\n",
       "        vertical-align: middle;\n",
       "    }\n",
       "\n",
       "    .dataframe tbody tr th {\n",
       "        vertical-align: top;\n",
       "    }\n",
       "\n",
       "    .dataframe thead th {\n",
       "        text-align: right;\n",
       "    }\n",
       "</style>\n",
       "<table border=\"1\" class=\"dataframe\">\n",
       "  <thead>\n",
       "    <tr style=\"text-align: right;\">\n",
       "      <th></th>\n",
       "      <th>C_MNTH</th>\n",
       "      <th>C_WDAY</th>\n",
       "      <th>C_HOUR</th>\n",
       "      <th>C_RCFG</th>\n",
       "      <th>C_WTHR</th>\n",
       "      <th>C_RSUR</th>\n",
       "      <th>C_RALN</th>\n",
       "      <th>C_TRAF</th>\n",
       "      <th>V_TYPE</th>\n",
       "      <th>P_SAFE</th>\n",
       "      <th>V_YEAR</th>\n",
       "      <th>C_YEAR</th>\n",
       "      <th>P_AGE</th>\n",
       "      <th>P_SEX</th>\n",
       "      <th>PP_CAR</th>\n",
       "    </tr>\n",
       "  </thead>\n",
       "  <tbody>\n",
       "    <tr>\n",
       "      <th>0</th>\n",
       "      <td>0.013036</td>\n",
       "      <td>0.013388</td>\n",
       "      <td>0.018474</td>\n",
       "      <td>0.010050</td>\n",
       "      <td>0.013724</td>\n",
       "      <td>0.016415</td>\n",
       "      <td>0.032684</td>\n",
       "      <td>0.011866</td>\n",
       "      <td>0.020918</td>\n",
       "      <td>0.015462</td>\n",
       "      <td>1990</td>\n",
       "      <td>1999</td>\n",
       "      <td>41</td>\n",
       "      <td>0.018556</td>\n",
       "      <td>0.019410</td>\n",
       "    </tr>\n",
       "    <tr>\n",
       "      <th>1</th>\n",
       "      <td>0.013036</td>\n",
       "      <td>0.013388</td>\n",
       "      <td>0.018474</td>\n",
       "      <td>0.010050</td>\n",
       "      <td>0.013724</td>\n",
       "      <td>0.016415</td>\n",
       "      <td>0.032684</td>\n",
       "      <td>0.011866</td>\n",
       "      <td>0.012319</td>\n",
       "      <td>0.015462</td>\n",
       "      <td>1987</td>\n",
       "      <td>1999</td>\n",
       "      <td>19</td>\n",
       "      <td>0.018556</td>\n",
       "      <td>0.015573</td>\n",
       "    </tr>\n",
       "    <tr>\n",
       "      <th>2</th>\n",
       "      <td>0.013036</td>\n",
       "      <td>0.013388</td>\n",
       "      <td>0.009810</td>\n",
       "      <td>0.010050</td>\n",
       "      <td>0.021564</td>\n",
       "      <td>0.016234</td>\n",
       "      <td>0.030981</td>\n",
       "      <td>0.020896</td>\n",
       "      <td>0.012319</td>\n",
       "      <td>0.015462</td>\n",
       "      <td>1986</td>\n",
       "      <td>1999</td>\n",
       "      <td>46</td>\n",
       "      <td>0.018556</td>\n",
       "      <td>0.019410</td>\n",
       "    </tr>\n",
       "    <tr>\n",
       "      <th>3</th>\n",
       "      <td>0.013036</td>\n",
       "      <td>0.013388</td>\n",
       "      <td>0.010621</td>\n",
       "      <td>0.019557</td>\n",
       "      <td>0.013724</td>\n",
       "      <td>0.012630</td>\n",
       "      <td>0.012028</td>\n",
       "      <td>0.004503</td>\n",
       "      <td>0.012319</td>\n",
       "      <td>0.015462</td>\n",
       "      <td>1984</td>\n",
       "      <td>1999</td>\n",
       "      <td>28</td>\n",
       "      <td>0.018556</td>\n",
       "      <td>0.019410</td>\n",
       "    </tr>\n",
       "    <tr>\n",
       "      <th>4</th>\n",
       "      <td>0.013036</td>\n",
       "      <td>0.013388</td>\n",
       "      <td>0.010621</td>\n",
       "      <td>0.019557</td>\n",
       "      <td>0.013724</td>\n",
       "      <td>0.012630</td>\n",
       "      <td>0.012028</td>\n",
       "      <td>0.004503</td>\n",
       "      <td>0.012319</td>\n",
       "      <td>0.015462</td>\n",
       "      <td>1991</td>\n",
       "      <td>1999</td>\n",
       "      <td>21</td>\n",
       "      <td>0.018556</td>\n",
       "      <td>0.015573</td>\n",
       "    </tr>\n",
       "  </tbody>\n",
       "</table>\n",
       "</div>"
      ],
      "text/plain": [
       "     C_MNTH    C_WDAY    C_HOUR    C_RCFG    C_WTHR    C_RSUR    C_RALN  \\\n",
       "0  0.013036  0.013388  0.018474  0.010050  0.013724  0.016415  0.032684   \n",
       "1  0.013036  0.013388  0.018474  0.010050  0.013724  0.016415  0.032684   \n",
       "2  0.013036  0.013388  0.009810  0.010050  0.021564  0.016234  0.030981   \n",
       "3  0.013036  0.013388  0.010621  0.019557  0.013724  0.012630  0.012028   \n",
       "4  0.013036  0.013388  0.010621  0.019557  0.013724  0.012630  0.012028   \n",
       "\n",
       "     C_TRAF    V_TYPE    P_SAFE  V_YEAR  C_YEAR  P_AGE     P_SEX    PP_CAR  \n",
       "0  0.011866  0.020918  0.015462    1990    1999     41  0.018556  0.019410  \n",
       "1  0.011866  0.012319  0.015462    1987    1999     19  0.018556  0.015573  \n",
       "2  0.020896  0.012319  0.015462    1986    1999     46  0.018556  0.019410  \n",
       "3  0.004503  0.012319  0.015462    1984    1999     28  0.018556  0.019410  \n",
       "4  0.004503  0.012319  0.015462    1991    1999     21  0.018556  0.015573  "
      ]
     },
     "execution_count": 8,
     "metadata": {},
     "output_type": "execute_result"
    }
   ],
   "source": [
    "# Catboost encoding\n",
    "catboost = ce.CatBoostEncoder()\n",
    "catboost.fit(train, target)\n",
    "df_coded = catboost.transform(train)\n",
    "df_coded.head()"
   ]
  },
  {
   "cell_type": "markdown",
   "id": "1f14e87c-3a37-4fdf-81dc-f785e78df6e0",
   "metadata": {},
   "source": [
    "### Escalado de las variables\n",
    "Aunque en algunos algoritmos no sea necesario el escalado de variables, pasaremos a realizarlo en este punto para trabajar con los datos en el mismo formato."
   ]
  },
  {
   "cell_type": "code",
   "execution_count": 9,
   "id": "b372f630-319e-492a-9b1e-39990ecce867",
   "metadata": {},
   "outputs": [
    {
     "data": {
      "text/html": [
       "<div>\n",
       "<style scoped>\n",
       "    .dataframe tbody tr th:only-of-type {\n",
       "        vertical-align: middle;\n",
       "    }\n",
       "\n",
       "    .dataframe tbody tr th {\n",
       "        vertical-align: top;\n",
       "    }\n",
       "\n",
       "    .dataframe thead th {\n",
       "        text-align: right;\n",
       "    }\n",
       "</style>\n",
       "<table border=\"1\" class=\"dataframe\">\n",
       "  <thead>\n",
       "    <tr style=\"text-align: right;\">\n",
       "      <th></th>\n",
       "      <th>C_MNTH</th>\n",
       "      <th>C_WDAY</th>\n",
       "      <th>C_HOUR</th>\n",
       "      <th>C_RCFG</th>\n",
       "      <th>C_WTHR</th>\n",
       "      <th>C_RSUR</th>\n",
       "      <th>C_RALN</th>\n",
       "      <th>C_TRAF</th>\n",
       "      <th>V_TYPE</th>\n",
       "      <th>P_SAFE</th>\n",
       "      <th>V_YEAR</th>\n",
       "      <th>C_YEAR</th>\n",
       "      <th>P_AGE</th>\n",
       "      <th>P_SEX</th>\n",
       "      <th>PP_CAR</th>\n",
       "      <th>TARGET</th>\n",
       "    </tr>\n",
       "  </thead>\n",
       "  <tbody>\n",
       "    <tr>\n",
       "      <th>0</th>\n",
       "      <td>-1.41349</td>\n",
       "      <td>-0.504111</td>\n",
       "      <td>0.639472</td>\n",
       "      <td>-0.605457</td>\n",
       "      <td>-0.246324</td>\n",
       "      <td>0.987280</td>\n",
       "      <td>2.518029</td>\n",
       "      <td>-0.363466</td>\n",
       "      <td>0.709934</td>\n",
       "      <td>0.074408</td>\n",
       "      <td>-0.584604</td>\n",
       "      <td>-1.533381</td>\n",
       "      <td>-0.150771</td>\n",
       "      <td>0.81667</td>\n",
       "      <td>0.839152</td>\n",
       "      <td>0</td>\n",
       "    </tr>\n",
       "    <tr>\n",
       "      <th>1</th>\n",
       "      <td>-1.41349</td>\n",
       "      <td>-0.504111</td>\n",
       "      <td>0.639472</td>\n",
       "      <td>-0.605457</td>\n",
       "      <td>-0.246324</td>\n",
       "      <td>0.987280</td>\n",
       "      <td>2.518029</td>\n",
       "      <td>-0.363466</td>\n",
       "      <td>-0.251504</td>\n",
       "      <td>0.074408</td>\n",
       "      <td>-0.692229</td>\n",
       "      <td>-1.533381</td>\n",
       "      <td>-0.896072</td>\n",
       "      <td>0.81667</td>\n",
       "      <td>0.174065</td>\n",
       "      <td>0</td>\n",
       "    </tr>\n",
       "    <tr>\n",
       "      <th>2</th>\n",
       "      <td>-1.41349</td>\n",
       "      <td>-0.504111</td>\n",
       "      <td>-0.779007</td>\n",
       "      <td>-0.605457</td>\n",
       "      <td>2.041762</td>\n",
       "      <td>0.890469</td>\n",
       "      <td>2.281274</td>\n",
       "      <td>0.851024</td>\n",
       "      <td>-0.251504</td>\n",
       "      <td>0.074408</td>\n",
       "      <td>-0.728104</td>\n",
       "      <td>-1.533381</td>\n",
       "      <td>0.018616</td>\n",
       "      <td>0.81667</td>\n",
       "      <td>0.839152</td>\n",
       "      <td>0</td>\n",
       "    </tr>\n",
       "    <tr>\n",
       "      <th>3</th>\n",
       "      <td>-1.41349</td>\n",
       "      <td>-0.504111</td>\n",
       "      <td>-0.646253</td>\n",
       "      <td>0.668421</td>\n",
       "      <td>-0.246324</td>\n",
       "      <td>-1.036199</td>\n",
       "      <td>-0.353054</td>\n",
       "      <td>-1.353824</td>\n",
       "      <td>-0.251504</td>\n",
       "      <td>0.074408</td>\n",
       "      <td>-0.799854</td>\n",
       "      <td>-1.533381</td>\n",
       "      <td>-0.591176</td>\n",
       "      <td>0.81667</td>\n",
       "      <td>0.839152</td>\n",
       "      <td>0</td>\n",
       "    </tr>\n",
       "    <tr>\n",
       "      <th>4</th>\n",
       "      <td>-1.41349</td>\n",
       "      <td>-0.504111</td>\n",
       "      <td>-0.646253</td>\n",
       "      <td>0.668421</td>\n",
       "      <td>-0.246324</td>\n",
       "      <td>-1.036199</td>\n",
       "      <td>-0.353054</td>\n",
       "      <td>-1.353824</td>\n",
       "      <td>-0.251504</td>\n",
       "      <td>0.074408</td>\n",
       "      <td>-0.548729</td>\n",
       "      <td>-1.533381</td>\n",
       "      <td>-0.828318</td>\n",
       "      <td>0.81667</td>\n",
       "      <td>0.174065</td>\n",
       "      <td>0</td>\n",
       "    </tr>\n",
       "  </tbody>\n",
       "</table>\n",
       "</div>"
      ],
      "text/plain": [
       "    C_MNTH    C_WDAY    C_HOUR    C_RCFG    C_WTHR    C_RSUR    C_RALN  \\\n",
       "0 -1.41349 -0.504111  0.639472 -0.605457 -0.246324  0.987280  2.518029   \n",
       "1 -1.41349 -0.504111  0.639472 -0.605457 -0.246324  0.987280  2.518029   \n",
       "2 -1.41349 -0.504111 -0.779007 -0.605457  2.041762  0.890469  2.281274   \n",
       "3 -1.41349 -0.504111 -0.646253  0.668421 -0.246324 -1.036199 -0.353054   \n",
       "4 -1.41349 -0.504111 -0.646253  0.668421 -0.246324 -1.036199 -0.353054   \n",
       "\n",
       "     C_TRAF    V_TYPE    P_SAFE    V_YEAR    C_YEAR     P_AGE    P_SEX  \\\n",
       "0 -0.363466  0.709934  0.074408 -0.584604 -1.533381 -0.150771  0.81667   \n",
       "1 -0.363466 -0.251504  0.074408 -0.692229 -1.533381 -0.896072  0.81667   \n",
       "2  0.851024 -0.251504  0.074408 -0.728104 -1.533381  0.018616  0.81667   \n",
       "3 -1.353824 -0.251504  0.074408 -0.799854 -1.533381 -0.591176  0.81667   \n",
       "4 -1.353824 -0.251504  0.074408 -0.548729 -1.533381 -0.828318  0.81667   \n",
       "\n",
       "     PP_CAR  TARGET  \n",
       "0  0.839152       0  \n",
       "1  0.174065       0  \n",
       "2  0.839152       0  \n",
       "3  0.839152       0  \n",
       "4  0.174065       0  "
      ]
     },
     "execution_count": 9,
     "metadata": {},
     "output_type": "execute_result"
    }
   ],
   "source": [
    "scaler = StandardScaler()\n",
    "model_scaled = scaler.fit(df_coded)\n",
    "train_scaled = pd.DataFrame(scaler.transform(df_coded), columns=df_coded.columns, index=df_coded.index)\n",
    "df_scaled = pd.concat([train_scaled, target], axis=1).reset_index(drop=True)\n",
    "df_scaled.head()"
   ]
  },
  {
   "cell_type": "code",
   "execution_count": 35,
   "id": "b48a2c51-e00a-4167-8caf-57c1d9491b46",
   "metadata": {},
   "outputs": [],
   "source": [
    "#Nos guardamos el dataset codificado y escalado\n",
    "df_scaled.to_csv('../data/df_coded_scaled.csv')"
   ]
  },
  {
   "cell_type": "markdown",
   "id": "cf5ddea2-05c2-41cb-8da2-34926d7877a4",
   "metadata": {},
   "source": [
    "### Dividimos el dataset en train y test\n",
    "Dividimos el dataset en train y test manteniendo la proporción de la variable objetivo en las dos partes (separación estratificada)"
   ]
  },
  {
   "cell_type": "code",
   "execution_count": 39,
   "id": "141c6987-c52c-45c6-b946-cf7b25539c4c",
   "metadata": {},
   "outputs": [],
   "source": [
    "X = df_scaled.drop('TARGET',axis=1)\n",
    "y = df_scaled['TARGET']"
   ]
  },
  {
   "cell_type": "code",
   "execution_count": 40,
   "id": "107d55ea-663a-4787-8927-9bfb1fe1df56",
   "metadata": {},
   "outputs": [],
   "source": [
    "X_train, X_test, y_train, y_test = train_test_split(X, y, stratify=y, shuffle=True, test_size=0.20, random_state=0)"
   ]
  },
  {
   "cell_type": "code",
   "execution_count": 41,
   "id": "388e3b28-a224-4289-8e07-028a74e465c8",
   "metadata": {},
   "outputs": [
    {
     "name": "stdout",
     "output_type": "stream",
     "text": [
      "0    0.985431\n",
      "1    0.014569\n",
      "Name: TARGET, dtype: float64\n",
      "0    0.985432\n",
      "1    0.014568\n",
      "Name: TARGET, dtype: float64\n"
     ]
    }
   ],
   "source": [
    "#comprobación de la estratificación\n",
    "print(y_train.value_counts(normalize=True))\n",
    "print(y_test.value_counts(normalize=True))"
   ]
  },
  {
   "cell_type": "markdown",
   "id": "4f79bcec-4f2b-4222-8520-1227e18eb8ca",
   "metadata": {},
   "source": [
    "### Problema de desbalanceo de datos"
   ]
  },
  {
   "cell_type": "markdown",
   "id": "dd704596-cb54-466b-9575-055ed16f01be",
   "metadata": {},
   "source": [
    "Para solventar este problema probaremos con la técnica SMOTE."
   ]
  },
  {
   "cell_type": "markdown",
   "id": "61abe7f7-d5ff-474d-8a37-f1e3912f7e0f",
   "metadata": {},
   "source": [
    "### SMOTE\n",
    "SMOTE realiza un oversample de la clase minoritaria segun la configuracion que le demos (Ej: strategy, k-values). Por defecto, el K-value es 5.\n",
    "\n",
    "A continuación, procederemos a realizar una busqueda de K-values con un grid entre un rago de valores de entre 4 y 9 para intentar optimizar el sintetizado de la clase minoritaria con vistas a generar un mejor resultado para el modelo que utilicemos. También combinaremos la técnica del SMOTE con un ligero undersampling para lograr unos resultados aún más óptimos.\n",
    "\n",
    "### Resultados del modelo LogisticRegression() sin aplicar SMOTE\n",
    "Compararemos la metrica ROC antes y después del oversampling para confirmar que la técnica es apropiada (cuando ésta supere el baseline marcado por la curva ROC sin SMOTE de un modelo LogisticRegression por ejemplo que nos da inicialmente 0.50)"
   ]
  },
  {
   "cell_type": "code",
   "execution_count": 44,
   "id": "0d9f70d0-d2c8-4488-a4a7-6309bc6e6b13",
   "metadata": {},
   "outputs": [
    {
     "name": "stdout",
     "output_type": "stream",
     "text": [
      "Antes de SMOTE - Mean ROC AUC: 0.500\n"
     ]
    }
   ],
   "source": [
    "# LGGMC object\n",
    "lgbc = LogisticRegression()\n",
    " \n",
    "# train the model on train set\n",
    "lgbc.fit(X_train, y_train)\n",
    " \n",
    "predictions = lgbc.predict(X_test)\n",
    "score = roc_auc_score(y_test, predictions)\n",
    "# print classification report\n",
    "print('Antes de SMOTE - Mean ROC AUC: %.3f' % (score))"
   ]
  },
  {
   "cell_type": "code",
   "execution_count": 19,
   "id": "b265f3fd-477c-41bc-96cc-bfaddc1c473a",
   "metadata": {},
   "outputs": [
    {
     "name": "stdout",
     "output_type": "stream",
     "text": [
      "> k=4, Mean ROC AUC: 0.808\n",
      "> k=5, Mean ROC AUC: 0.809\n",
      "> k=6, Mean ROC AUC: 0.809\n",
      "> k=7, Mean ROC AUC: 0.809\n",
      "> k=8, Mean ROC AUC: 0.809\n",
      "> k=9, Mean ROC AUC: 0.809\n"
     ]
    }
   ],
   "source": [
    "# grid search k value for SMOTE oversampling for imbalanced classification\n",
    "\n",
    "# values to evaluate\n",
    "k_values = [4, 5, 6, 7, 8 ,9]\n",
    "for k in k_values:\n",
    "# define pipeline\n",
    "    model = LogisticRegression()\n",
    "    over = SMOTE(sampling_strategy=0.1, k_neighbors=k)\n",
    "    under = RandomUnderSampler(sampling_strategy=0.2)\n",
    "    steps = [('over', over), ('under', under), ('model', model)]\n",
    "    pipeline = Pipeline(steps=steps)\n",
    "    # evaluate pipeline\n",
    "    cv = RepeatedStratifiedKFold(n_splits=10, n_repeats=3, random_state=1)\n",
    "    scores = cross_val_score(pipeline, X_train, y_train, scoring='roc_auc', cv=cv, n_jobs=-1)\n",
    "    score = mean(scores)\n",
    "    print('> k=%d, Mean ROC AUC: %.3f' % (k, score))"
   ]
  },
  {
   "cell_type": "markdown",
   "id": "fabb70d0-9fce-415b-9a10-c40364dcd3a4",
   "metadata": {},
   "source": [
    "Optaremos por un k=6 para la realización del SMOTE y nos guardaremos las variables para su utilización en otros cuadernos:"
   ]
  },
  {
   "cell_type": "code",
   "execution_count": 30,
   "id": "b19646a3-64ec-4c71-a6c2-2f9af0c36d2d",
   "metadata": {},
   "outputs": [
    {
     "name": "stdout",
     "output_type": "stream",
     "text": [
      "Antes de SMOTE  Counter({0: 3095110, 1: 45758})\n",
      "Después de SMOTE  Counter({0: 1547555, 1: 309511})\n"
     ]
    }
   ],
   "source": [
    "over = SMOTE(sampling_strategy=0.1, k_neighbors=6)\n",
    "under = RandomUnderSampler(sampling_strategy=0.2)\n",
    "steps = [('over', over), ('under', under)]\n",
    "oversample = Pipeline(steps=steps)\n",
    "\n",
    "# transformación del dataset\n",
    "X_train_sm, y_train_sm = oversample.fit_resample(X_train, y_train)\n",
    "\n",
    "# summarize the new class distribution\n",
    "counter = Counter(y_train)\n",
    "print(\"Antes de SMOTE \", counter)\n",
    "\n",
    "counter2 = Counter(y_train_sm)\n",
    "print(\"Después de SMOTE \", counter2)"
   ]
  },
  {
   "cell_type": "code",
   "execution_count": 45,
   "id": "dc33bdbc-76f7-4171-9fe7-421f37964b19",
   "metadata": {},
   "outputs": [
    {
     "name": "stdout",
     "output_type": "stream",
     "text": [
      "Después de SMOTE - Mean ROC AUC: 0.580\n"
     ]
    }
   ],
   "source": [
    "# Modelo - Después de aplicar SMOTE\n",
    "lgbc2 = LogisticRegression()\n",
    " \n",
    "# train the model on train set\n",
    "lgbc2.fit(X_train_sm, y_train_sm)\n",
    " \n",
    "predictions2 = lgbc2.predict(X_test)\n",
    "score2 = roc_auc_score(y_test, predictions2)\n",
    "# print classification report\n",
    "print('Después de SMOTE - Mean ROC AUC: %.3f' % (score2))"
   ]
  },
  {
   "cell_type": "markdown",
   "id": "04e8748b-bc67-48b3-929a-09e4f0ea0974",
   "metadata": {},
   "source": [
    "### Comentarios\n",
    "\n",
    "Como vemos aplicando la técnica SMOTE en combinación con un ligero undersampling hemos conseguido aumentar el resultado de la metrica ROC de 0.50 a 0.58 usando como ejemplo un modelo LogisticRegression."
   ]
  },
  {
   "cell_type": "code",
   "execution_count": 31,
   "id": "28a5d7cf-4422-46e9-b1f9-bce68fbdb364",
   "metadata": {},
   "outputs": [],
   "source": [
    "#me guardo el train y test para su posterior utilización\n",
    "with open('../data/train_smote.pickle', 'wb') as f:\n",
    "    pickle.dump([X_train_sm, y_train_sm, X_test, y_test], f)"
   ]
  },
  {
   "cell_type": "code",
   "execution_count": 36,
   "id": "b613bc3a-1136-4777-b190-0ca4a272eb79",
   "metadata": {},
   "outputs": [],
   "source": [
    "#para traer de nuevo las variables:\n",
    "#with open('../data/train_smote.pickle', 'rb') as f:\n",
    "    #X_train_sm, y_train_sm, X_test, y_test = pickle.load(f)"
   ]
  }
 ],
 "metadata": {
  "kernelspec": {
   "display_name": "Python [conda env:practica_ml]",
   "language": "python",
   "name": "conda-env-practica_ml-py"
  },
  "language_info": {
   "codemirror_mode": {
    "name": "ipython",
    "version": 3
   },
   "file_extension": ".py",
   "mimetype": "text/x-python",
   "name": "python",
   "nbconvert_exporter": "python",
   "pygments_lexer": "ipython3",
   "version": "3.9.7"
  }
 },
 "nbformat": 4,
 "nbformat_minor": 5
}
