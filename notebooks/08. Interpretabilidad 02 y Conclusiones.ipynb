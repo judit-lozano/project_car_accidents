{
 "cells": [
  {
   "cell_type": "markdown",
   "id": "974ac9c1-22f1-4c60-96d9-d42dd123ea41",
   "metadata": {},
   "source": [
    "Author: Judit Lozano Gondolbeu"
   ]
  },
  {
   "cell_type": "markdown",
   "id": "08940527",
   "metadata": {},
   "source": [
    "### Libraries"
   ]
  },
  {
   "cell_type": "code",
   "execution_count": 1,
   "id": "85b6aac9",
   "metadata": {},
   "outputs": [],
   "source": [
    "import pandas as pd\n",
    "import numpy as np\n",
    "import seaborn as sns\n",
    "from matplotlib import pyplot as plt\n",
    "import warnings\n",
    "import pickle\n",
    "from sklearn.linear_model import LogisticRegression\n",
    "from sklearn.metrics import roc_auc_score, ConfusionMatrixDisplay, roc_curve, precision_recall_curve,\\\n",
    "                             classification_report,  accuracy_score, f1_score, recall_score, precision_score, confusion_matrix\n",
    "import scikitplot as skplt\n",
    "import eli5\n",
    "from eli5.sklearn import PermutationImportance\n",
    "from sklearn.datasets import make_hastie_10_2\n",
    "from sklearn.inspection import PartialDependenceDisplay\n",
    "import shap\n",
    "import lightgbm as lgbm\n",
    "\n",
    "\n",
    "warnings.filterwarnings(\"ignore\")\n",
    "\n",
    "pd.set_option('display.max_columns', 500)\n",
    "pd.set_option('display.max_rows', 5000)\n"
   ]
  },
  {
   "cell_type": "code",
   "execution_count": 2,
   "id": "f8e45556-f186-4d6e-b217-deeed9d58f68",
   "metadata": {},
   "outputs": [
    {
     "name": "stdout",
     "output_type": "stream",
     "text": [
      "     C_MNTH    C_WDAY    C_HOUR    C_RCFG    C_WTHR    C_RALN    C_TRAF  \\\n",
      "0 -1.129054  1.375704  0.651298 -0.824320  0.948994  0.531235 -0.363466   \n",
      "1 -1.129054 -0.417392 -0.779007 -0.824320 -0.246324 -0.353054 -1.353824   \n",
      "2  0.183556 -0.417392 -0.646253  1.246626 -0.246324 -0.353054 -0.318034   \n",
      "3  1.797639 -0.899118 -0.359585  1.246626 -0.246324 -0.353054  0.851024   \n",
      "4 -1.413490 -0.504111 -0.556747 -0.605457  0.909085 -1.210185 -1.353824   \n",
      "\n",
      "     V_TYPE    P_SAFE    V_YEAR     P_AGE     P_SEX    PP_CAR  \n",
      "0 -0.251504 -0.225190 -0.118230 -0.963827  0.816670 -1.450629  \n",
      "1 -0.251504 -0.225190  0.097020 -0.591176 -1.219878  0.839152  \n",
      "2 -0.251504  0.074408 -0.154105 -0.692808 -1.219878  0.839152  \n",
      "3 -0.711926 -0.369937  3.433395 -0.828318 -1.219878  0.174065  \n",
      "4 -0.251504 -0.225190 -0.261729 -0.658931 -1.219878  0.839152  \n"
     ]
    }
   ],
   "source": [
    "with open('../data/train_ridge.pickle', 'rb') as f:\n",
    "     X_train, y_train, X_test, y_test = pickle.load(f)\n",
    "      # display dataset\n",
    "print(X_train.head())"
   ]
  },
  {
   "cell_type": "code",
   "execution_count": 3,
   "id": "ed8ffdd4-1f42-46d2-85d4-ec44de5561d0",
   "metadata": {},
   "outputs": [],
   "source": [
    "#Cargamos el modelo entrenado y optimizado\n",
    "with open(\"../models/model_lgb_final.pckl\", \"rb\") as f:\n",
    "    model = pickle.load(f)"
   ]
  },
  {
   "cell_type": "code",
   "execution_count": 4,
   "id": "886c4613-fc0d-4ea4-8b20-69430ccfadbe",
   "metadata": {},
   "outputs": [
    {
     "name": "stdout",
     "output_type": "stream",
     "text": [
      "{'class_weight': {0: 0.2, 1: 0.8}, 'learning_rate': 0.01, 'n_estimators': 1000, 'num_leaves': 50}\n"
     ]
    }
   ],
   "source": [
    "parametros= model.best_params_\n",
    "print(parametros)"
   ]
  },
  {
   "cell_type": "code",
   "execution_count": 5,
   "id": "9f102ce8-3249-4ac6-8bcd-89af829da742",
   "metadata": {},
   "outputs": [],
   "source": [
    "lgb_model = lgbm.LGBMClassifier(**parametros)"
   ]
  },
  {
   "cell_type": "code",
   "execution_count": 6,
   "id": "05c6d6da-62d2-4c7a-9951-afad6597f00a",
   "metadata": {},
   "outputs": [
    {
     "data": {
      "text/plain": [
       "LGBMClassifier(class_weight={0: 0.2, 1: 0.8}, learning_rate=0.01,\n",
       "               n_estimators=1000, num_leaves=50)"
      ]
     },
     "execution_count": 6,
     "metadata": {},
     "output_type": "execute_result"
    }
   ],
   "source": [
    "lgb_model.fit(X_train, y_train)"
   ]
  },
  {
   "cell_type": "markdown",
   "id": "f8a5b566-f664-4c71-8b64-187096805ec3",
   "metadata": {},
   "source": [
    "### Interpretabilidad Local con SHAP\n",
    "\n",
    "Con Shap podemos estudiar la correlación ente cada variable con la variable target para uno o varias filas y ordena las variables segun sus coeficientes absolutos de mayor a menor."
   ]
  },
  {
   "cell_type": "code",
   "execution_count": null,
   "id": "ef65d8e1-8f01-497d-a984-2b148b25e296",
   "metadata": {},
   "outputs": [],
   "source": [
    "# Create object that can calculate shap values\n",
    "explainer = shap.TreeExplainer(lgb_model)\n",
    "\n",
    "# Calculate Shap values\n",
    "shap_values = explainer.shap_values(X_test)"
   ]
  },
  {
   "cell_type": "code",
   "execution_count": null,
   "id": "038bed26-828c-4aa7-836e-a570667c2e82",
   "metadata": {},
   "outputs": [],
   "source": [
    "shap.initjs()\n",
    "shap.force_plot(explainer.expected_value[0], shap_values[0][0], X_test.iloc[0,:])"
   ]
  },
  {
   "cell_type": "code",
   "execution_count": null,
   "id": "ccf2c913-b7d9-4eb8-a452-2e94bffee784",
   "metadata": {},
   "outputs": [],
   "source": [
    "#summarizetheeffectsofallthefeatures\n",
    "shap.summary_plot(shap_values, X_test)"
   ]
  },
  {
   "cell_type": "code",
   "execution_count": null,
   "id": "5d0cd414-69c4-4356-adfb-ce289670467c",
   "metadata": {},
   "outputs": [],
   "source": [
    "shap.summary_plot(shap_values[0],features=X_test)"
   ]
  },
  {
   "cell_type": "markdown",
   "id": "d6143251-ed5c-4b59-b1a4-a82892115ee2",
   "metadata": {},
   "source": [
    "Si analizamos los valores para una única fila el punto donde se diferencia el color rojo del azul es la probabilidad de que ese determinado caso la variable target sea un uno, es decir probabilidad de que ese conductor esté involucrado en un accidente donde habrá algun fallecido. "
   ]
  },
  {
   "cell_type": "markdown",
   "id": "906433d6-ffc3-41df-b7be-8fa38ac11c8f",
   "metadata": {},
   "source": [
    "Las variables en azul hacen que esa probabilidad baje y las variables en rojo hacen que la probabilidad suba."
   ]
  },
  {
   "cell_type": "markdown",
   "id": "1273667f-ef24-4b6e-9bf5-f3eb9e4455a5",
   "metadata": {},
   "source": [
    "### Conclusiones"
   ]
  },
  {
   "cell_type": "markdown",
   "id": "f1e640df-c207-4fc2-be42-acf8c42149b3",
   "metadata": {},
   "source": [
    "En este estudio aplicamos herramientas de machine learning para un problema de clasificación donde queremos predecir si habrá o no fatalidades dado un accidente entre los conductores asegurados por las empresas aseguradoras de automóviles con cobertura en Canadá. \n",
    "\n",
    "Tras realizar un análisis exploratorio inicial del data set observamos que este está muy desbalanceado y que no hay correlaciones destacables entre las variables que son mayoritariamente de naturaleza categórica.\n",
    "\n",
    "Para atajar el problema de desbalanceo de datos y tras un procesado y limpieza de las variables del dataset hemos aplicado la técnica de SMOTE combinada con un ligero undersampling para facilitar el entrenado posterior del modelo.\n",
    "\n",
    "Tras estudiar las métricas con varios modelos, optimización de hiperparámetros y validación cruzada nuestro modelo ganador es el LGBMClassifier. \n",
    "\n",
    "En este estudio nos hemos centrado en la información a nivel global ya que nos interesa conocer el número global de conductores involucrados en accidentes con resultado mortal con la intención de estimar las reservas necesarias en caso de indemnización. \n",
    "\n",
    "Para un estudio a nivel local donde los objetivos sean el abordaje del cálculo de la prima por ejemplo para un nuevo conductor que quiere asegurarse con la compañia, tendríamos que replantear el estudio completamente dando especial importancia a la parte de interpretabilidad a nivel local para evitar sobretodo posibles sesgos descriminatorios de carácter demográfico. \n",
    "\n",
    "\n"
   ]
  }
 ],
 "metadata": {
  "kernelspec": {
   "display_name": "Python [conda env:practica_ml]",
   "language": "python",
   "name": "conda-env-practica_ml-py"
  },
  "language_info": {
   "codemirror_mode": {
    "name": "ipython",
    "version": 3
   },
   "file_extension": ".py",
   "mimetype": "text/x-python",
   "name": "python",
   "nbconvert_exporter": "python",
   "pygments_lexer": "ipython3",
   "version": "3.9.7"
  }
 },
 "nbformat": 4,
 "nbformat_minor": 5
}
