{
 "cells": [
  {
   "cell_type": "markdown",
   "id": "eca1860a",
   "metadata": {},
   "source": [
    "## Analisis Exploratio de datos"
   ]
  },
  {
   "cell_type": "code",
   "execution_count": 1,
   "id": "8aea2f0d",
   "metadata": {},
   "outputs": [
    {
     "name": "stdout",
     "output_type": "stream",
     "text": [
      "\n",
      "     active environment : practica_ml\n",
      "    active env location : /Users/JuditLozano/opt/anaconda3/envs/practica_ml\n",
      "            shell level : 2\n",
      "       user config file : /Users/JuditLozano/.condarc\n",
      " populated config files : /Users/JuditLozano/.condarc\n",
      "          conda version : 4.10.3\n",
      "    conda-build version : 3.21.6\n",
      "         python version : 3.8.12.final.0\n",
      "       virtual packages : __osx=10.16=0\n",
      "                          __unix=0=0\n",
      "                          __archspec=1=x86_64\n",
      "       base environment : /Users/JuditLozano/opt/anaconda3  (writable)\n",
      "      conda av data dir : /Users/JuditLozano/opt/anaconda3/etc/conda\n",
      "  conda av metadata url : None\n",
      "           channel URLs : https://repo.anaconda.com/pkgs/main/osx-64\n",
      "                          https://repo.anaconda.com/pkgs/main/noarch\n",
      "                          https://repo.anaconda.com/pkgs/r/osx-64\n",
      "                          https://repo.anaconda.com/pkgs/r/noarch\n",
      "          package cache : /Users/JuditLozano/opt/anaconda3/pkgs\n",
      "                          /Users/JuditLozano/.conda/pkgs\n",
      "       envs directories : /Users/JuditLozano/opt/anaconda3/envs\n",
      "                          /Users/JuditLozano/.conda/envs\n",
      "               platform : osx-64\n",
      "             user-agent : conda/4.10.3 requests/2.26.0 CPython/3.8.12 Darwin/20.5.0 OSX/10.16\n",
      "                UID:GID : 501:20\n",
      "             netrc file : /Users/JuditLozano/.netrc\n",
      "           offline mode : False\n",
      "\n"
     ]
    }
   ],
   "source": [
    "!Conda info"
   ]
  },
  {
   "cell_type": "markdown",
   "id": "08940527",
   "metadata": {},
   "source": [
    "### Libraries"
   ]
  },
  {
   "cell_type": "code",
   "execution_count": 15,
   "id": "85b6aac9",
   "metadata": {},
   "outputs": [],
   "source": [
    "import pandas as pd\n",
    "import numpy as np\n",
    "import seaborn as sns\n",
    "from matplotlib import pyplot as plt\n",
    "import plotly.express as px\n",
    "import scipy.stats as stats\n",
    "from sklearn.model_selection import train_test_split, GridSearchCV\n",
    "from dython.nominal import associations\n",
    "from collections import Counter\n",
    "from sklearn.datasets import make_classification\n",
    "from imblearn.over_sampling import ADASYN\n",
    "from matplotlib import pyplot\n",
    "from numpy import where\n",
    "from sklearn.preprocessing import StandardScaler\n",
    "from sklearn.pipeline import Pipeline\n",
    "from sklearn.linear_model import Lasso\n",
    "import warnings\n",
    "import pickle\n",
    "warnings.filterwarnings(\"ignore\")\n",
    "\n",
    "pd.set_option('display.max_columns', 500)\n",
    "pd.set_option('display.max_rows', 5000)"
   ]
  },
  {
   "cell_type": "markdown",
   "id": "71545630",
   "metadata": {},
   "source": [
    "### Funciones"
   ]
  },
  {
   "cell_type": "markdown",
   "id": "df046b30",
   "metadata": {},
   "source": [
    "### Objetivo"
   ]
  },
  {
   "cell_type": "markdown",
   "id": "5de5e8a4",
   "metadata": {},
   "source": [
    "El dataset contiene información sobre el numero de accidentes de trafico en Canada desde el año 1999 hasta el año 2014."
   ]
  },
  {
   "cell_type": "markdown",
   "id": "c9ba2826",
   "metadata": {},
   "source": [
    "El objetivo de este estudio es encontrar un modelo que prediga si habrá fallecimientos o no entre los asegurados para ser capaces de pronosticar el capital necesario que debería ser inmovilizado en base a ello. Inmovilizar más capital de lo necesario se traduce en perdidas para la empresa ya que ese exceso de capital podría ser rentabilizado en otros proyectos. \n",
    "\n",
    "Asi mismo, no cumplir con el minimo capital necesario para cubrir las indemnizaciones de los accidentes que causan algun fallecimiento puede significar multas importantes para la empresa o incluso la quiebra. \n",
    "\n",
    "Tras un analisis inicial las variables disponibles antes de que se produzca un accidente corresponden a las de la lista \"list_columns\".\n",
    "\n",
    "Las columnas que no usamos en el siguiente estudio son las siguientes. \n",
    "\n",
    "excluded_columns = [\"C_VEHS\", \"C_CONF\", \"V_ID\", \"P_ID\", \"P_ISEV\", \"P_USER\"]\n",
    "\n",
    "No las hemos incluido porque no aportar valor (como los IDs) o porque son datos que no se se podrían utilizar en nuestro modelo predictorio porque son datos que no están disponibles antes de que haya un accidente que es cuando el modelo se va a implantar."
   ]
  },
  {
   "cell_type": "code",
   "execution_count": 3,
   "id": "1c0ef47b",
   "metadata": {},
   "outputs": [
    {
     "data": {
      "text/plain": [
       "(5860405, 16)"
      ]
     },
     "execution_count": 3,
     "metadata": {},
     "output_type": "execute_result"
    }
   ],
   "source": [
    "list_columns = [\"C_YEAR\", \"C_MNTH\", \"C_WDAY\", \"C_HOUR\", \"C_SEV\", \"C_RCFG\", \"C_WTHR\", \"C_RSUR\", \"C_RALN\", \"C_TRAF\", \"V_TYPE\", \"V_YEAR\", \"P_SEX\", \"P_AGE\", \"P_PSN\", \"P_SAFE\"]\n",
    "\n",
    "data = pd.read_csv(\"Datos/NCDB_1999_to_2014.csv\").loc[:, list_columns]\n",
    "\n",
    "data.shape"
   ]
  },
  {
   "cell_type": "code",
   "execution_count": 4,
   "id": "7011f1c9",
   "metadata": {},
   "outputs": [
    {
     "data": {
      "text/html": [
       "<div>\n",
       "<style scoped>\n",
       "    .dataframe tbody tr th:only-of-type {\n",
       "        vertical-align: middle;\n",
       "    }\n",
       "\n",
       "    .dataframe tbody tr th {\n",
       "        vertical-align: top;\n",
       "    }\n",
       "\n",
       "    .dataframe thead th {\n",
       "        text-align: right;\n",
       "    }\n",
       "</style>\n",
       "<table border=\"1\" class=\"dataframe\">\n",
       "  <thead>\n",
       "    <tr style=\"text-align: right;\">\n",
       "      <th></th>\n",
       "      <th>C_YEAR</th>\n",
       "      <th>C_MNTH</th>\n",
       "      <th>C_WDAY</th>\n",
       "      <th>C_HOUR</th>\n",
       "      <th>C_SEV</th>\n",
       "      <th>C_RCFG</th>\n",
       "      <th>C_WTHR</th>\n",
       "      <th>C_RSUR</th>\n",
       "      <th>C_RALN</th>\n",
       "      <th>C_TRAF</th>\n",
       "      <th>V_TYPE</th>\n",
       "      <th>V_YEAR</th>\n",
       "      <th>P_SEX</th>\n",
       "      <th>P_AGE</th>\n",
       "      <th>P_PSN</th>\n",
       "      <th>P_SAFE</th>\n",
       "    </tr>\n",
       "  </thead>\n",
       "  <tbody>\n",
       "    <tr>\n",
       "      <th>0</th>\n",
       "      <td>1999</td>\n",
       "      <td>1</td>\n",
       "      <td>1</td>\n",
       "      <td>20</td>\n",
       "      <td>2</td>\n",
       "      <td>UU</td>\n",
       "      <td>1</td>\n",
       "      <td>5</td>\n",
       "      <td>3</td>\n",
       "      <td>03</td>\n",
       "      <td>06</td>\n",
       "      <td>1990</td>\n",
       "      <td>M</td>\n",
       "      <td>41</td>\n",
       "      <td>11</td>\n",
       "      <td>UU</td>\n",
       "    </tr>\n",
       "    <tr>\n",
       "      <th>1</th>\n",
       "      <td>1999</td>\n",
       "      <td>1</td>\n",
       "      <td>1</td>\n",
       "      <td>20</td>\n",
       "      <td>2</td>\n",
       "      <td>UU</td>\n",
       "      <td>1</td>\n",
       "      <td>5</td>\n",
       "      <td>3</td>\n",
       "      <td>03</td>\n",
       "      <td>01</td>\n",
       "      <td>1987</td>\n",
       "      <td>M</td>\n",
       "      <td>19</td>\n",
       "      <td>11</td>\n",
       "      <td>UU</td>\n",
       "    </tr>\n",
       "    <tr>\n",
       "      <th>2</th>\n",
       "      <td>1999</td>\n",
       "      <td>1</td>\n",
       "      <td>1</td>\n",
       "      <td>20</td>\n",
       "      <td>2</td>\n",
       "      <td>UU</td>\n",
       "      <td>1</td>\n",
       "      <td>5</td>\n",
       "      <td>3</td>\n",
       "      <td>03</td>\n",
       "      <td>01</td>\n",
       "      <td>1987</td>\n",
       "      <td>F</td>\n",
       "      <td>20</td>\n",
       "      <td>13</td>\n",
       "      <td>02</td>\n",
       "    </tr>\n",
       "    <tr>\n",
       "      <th>3</th>\n",
       "      <td>1999</td>\n",
       "      <td>1</td>\n",
       "      <td>1</td>\n",
       "      <td>08</td>\n",
       "      <td>2</td>\n",
       "      <td>UU</td>\n",
       "      <td>5</td>\n",
       "      <td>3</td>\n",
       "      <td>6</td>\n",
       "      <td>18</td>\n",
       "      <td>01</td>\n",
       "      <td>1986</td>\n",
       "      <td>M</td>\n",
       "      <td>46</td>\n",
       "      <td>11</td>\n",
       "      <td>UU</td>\n",
       "    </tr>\n",
       "    <tr>\n",
       "      <th>4</th>\n",
       "      <td>1999</td>\n",
       "      <td>1</td>\n",
       "      <td>1</td>\n",
       "      <td>08</td>\n",
       "      <td>2</td>\n",
       "      <td>UU</td>\n",
       "      <td>5</td>\n",
       "      <td>3</td>\n",
       "      <td>6</td>\n",
       "      <td>18</td>\n",
       "      <td>NN</td>\n",
       "      <td>NNNN</td>\n",
       "      <td>M</td>\n",
       "      <td>05</td>\n",
       "      <td>99</td>\n",
       "      <td>UU</td>\n",
       "    </tr>\n",
       "  </tbody>\n",
       "</table>\n",
       "</div>"
      ],
      "text/plain": [
       "   C_YEAR C_MNTH C_WDAY C_HOUR  C_SEV C_RCFG C_WTHR C_RSUR C_RALN C_TRAF  \\\n",
       "0    1999      1      1     20      2     UU      1      5      3     03   \n",
       "1    1999      1      1     20      2     UU      1      5      3     03   \n",
       "2    1999      1      1     20      2     UU      1      5      3     03   \n",
       "3    1999      1      1     08      2     UU      5      3      6     18   \n",
       "4    1999      1      1     08      2     UU      5      3      6     18   \n",
       "\n",
       "  V_TYPE V_YEAR P_SEX P_AGE P_PSN P_SAFE  \n",
       "0     06   1990     M    41    11     UU  \n",
       "1     01   1987     M    19    11     UU  \n",
       "2     01   1987     F    20    13     02  \n",
       "3     01   1986     M    46    11     UU  \n",
       "4     NN   NNNN     M    05    99     UU  "
      ]
     },
     "execution_count": 4,
     "metadata": {},
     "output_type": "execute_result"
    }
   ],
   "source": [
    "data.head()"
   ]
  },
  {
   "cell_type": "markdown",
   "id": "f1f1bcfc",
   "metadata": {},
   "source": [
    "Observamos los tipos de las variables del dataset y el nombre de las columnas"
   ]
  },
  {
   "cell_type": "code",
   "execution_count": 5,
   "id": "7a4f1d69",
   "metadata": {},
   "outputs": [
    {
     "data": {
      "text/plain": [
       "C_YEAR     int64\n",
       "C_MNTH    object\n",
       "C_WDAY    object\n",
       "C_HOUR    object\n",
       "C_SEV      int64\n",
       "C_RCFG    object\n",
       "C_WTHR    object\n",
       "C_RSUR    object\n",
       "C_RALN    object\n",
       "C_TRAF    object\n",
       "V_TYPE    object\n",
       "V_YEAR    object\n",
       "P_SEX     object\n",
       "P_AGE     object\n",
       "P_PSN     object\n",
       "P_SAFE    object\n",
       "dtype: object"
      ]
     },
     "execution_count": 5,
     "metadata": {},
     "output_type": "execute_result"
    }
   ],
   "source": [
    "data.dtypes"
   ]
  },
  {
   "cell_type": "code",
   "execution_count": 6,
   "id": "144c438d-f937-4370-8e4f-ba02f6f6db89",
   "metadata": {},
   "outputs": [
    {
     "data": {
      "text/plain": [
       "Index(['C_YEAR', 'C_MNTH', 'C_WDAY', 'C_HOUR', 'C_SEV', 'C_RCFG', 'C_WTHR',\n",
       "       'C_RSUR', 'C_RALN', 'C_TRAF', 'V_TYPE', 'V_YEAR', 'P_SEX', 'P_AGE',\n",
       "       'P_PSN', 'P_SAFE'],\n",
       "      dtype='object')"
      ]
     },
     "execution_count": 6,
     "metadata": {},
     "output_type": "execute_result"
    }
   ],
   "source": [
    "data.columns"
   ]
  },
  {
   "cell_type": "code",
   "execution_count": 25,
   "id": "c353e93f-ddeb-4a75-92ad-08994a544022",
   "metadata": {},
   "outputs": [],
   "source": [
    "df_data = data"
   ]
  },
  {
   "cell_type": "markdown",
   "id": "ae81f494-6b52-4d0a-a43d-b12f0bd004c4",
   "metadata": {},
   "source": [
    "En el dataset cada fila corresponde a una persona que estuvo involucrada en un accidente. Es decir, cada registro puede hacer referencia al conductor, a alguien que viajaba en la segunda fila, en la tercera fila o incluso a un peatón que pasaba por alli.  \n",
    "\n",
    "Dado que el objetivo de este estudio es centrarse en los conductores para intentar predecir que tipo de conductores tendrían más posibilidades de sufrir un accidente que resultara en algún fallecido, crearemos una nueva variable que identifique a los conductores según la clase 'driver' de la variable P_PSN y eliminaremos del dataset los registros que hacen referencia a los no conductores. \n",
    "\n",
    "Igualmente, filtraremos el dataset por accidentes con resultado mortal y crearemos nuestra variable 'Target' que identifica a los conductores involucrados en un accidente donde hubo algún fallecido con un 1 y conductores que tuvieron un accidente pero sin fallecidos con un 0. "
   ]
  },
  {
   "cell_type": "code",
   "execution_count": 26,
   "id": "93d4cd35-fdb5-46dd-a034-12a7b573a6ca",
   "metadata": {},
   "outputs": [],
   "source": [
    "df_data['DRIVERS'] = np.where(df_data['P_PSN']=='11',1,0) #identifico las filas de tipo 'conductor'\n",
    "mask_drivers = df_data['DRIVERS']==1\n",
    "df_data = df_data[mask_drivers] #filtro para ver solo los registros de tipo conductor\n",
    "df_data['TARGET'] = np.where(df_data['C_SEV']==1,1,0) #identifico a los conductores involucrados en un accidente donde hubo algún fallecido"
   ]
  },
  {
   "cell_type": "markdown",
   "id": "996996bd-e9a1-492a-9ac8-c045a567c8ac",
   "metadata": {},
   "source": [
    "### Exploración de la variable objetivo\n",
    "\n",
    "Aqui se observa un desbalanceo significanivo de los datos ya que tan solo un 1.46% de los conductores ha estado involucrado en algun accidente donde hubo al menos un fallecido. Este desbalanceo se tratará más adelante."
   ]
  },
  {
   "cell_type": "code",
   "execution_count": 27,
   "id": "cf796c3b",
   "metadata": {},
   "outputs": [
    {
     "data": {
      "text/html": [
       "<div>\n",
       "<style scoped>\n",
       "    .dataframe tbody tr th:only-of-type {\n",
       "        vertical-align: middle;\n",
       "    }\n",
       "\n",
       "    .dataframe tbody tr th {\n",
       "        vertical-align: top;\n",
       "    }\n",
       "\n",
       "    .dataframe thead th {\n",
       "        text-align: right;\n",
       "    }\n",
       "</style>\n",
       "<table border=\"1\" class=\"dataframe\">\n",
       "  <thead>\n",
       "    <tr style=\"text-align: right;\">\n",
       "      <th></th>\n",
       "      <th>index</th>\n",
       "      <th>percent</th>\n",
       "      <th>conteo</th>\n",
       "    </tr>\n",
       "  </thead>\n",
       "  <tbody>\n",
       "    <tr>\n",
       "      <th>0</th>\n",
       "      <td>0</td>\n",
       "      <td>98.543155</td>\n",
       "      <td>3868889</td>\n",
       "    </tr>\n",
       "    <tr>\n",
       "      <th>1</th>\n",
       "      <td>1</td>\n",
       "      <td>1.456845</td>\n",
       "      <td>57197</td>\n",
       "    </tr>\n",
       "  </tbody>\n",
       "</table>\n",
       "</div>"
      ],
      "text/plain": [
       "   index    percent   conteo\n",
       "0      0  98.543155  3868889\n",
       "1      1   1.456845    57197"
      ]
     },
     "execution_count": 27,
     "metadata": {},
     "output_type": "execute_result"
    }
   ],
   "source": [
    "df_plot_target = df_data['TARGET'] \\\n",
    "        .value_counts(normalize=True)\\\n",
    "        .mul(100).rename('percent').reset_index()\n",
    "        \n",
    "df_plot_conteo = df_data['TARGET'].value_counts().rename('conteo').reset_index()\n",
    "\n",
    "\n",
    "df_plot_fatalities = pd.merge(df_plot_target, df_plot_conteo, on=['index'], how='inner')\n",
    "df_plot_fatalities"
   ]
  },
  {
   "cell_type": "code",
   "execution_count": 28,
   "id": "bc814c52",
   "metadata": {},
   "outputs": [
    {
     "data": {
      "application/vnd.plotly.v1+json": {
       "config": {
        "plotlyServerURL": "https://plot.ly"
       },
       "data": [
        {
         "alignmentgroup": "True",
         "bingroup": "x",
         "histfunc": "sum",
         "hovertemplate": "index=%{x}<br>sum of percent=%{y}<extra></extra>",
         "legendgroup": "",
         "marker": {
          "color": "#636efa",
          "pattern": {
           "shape": ""
          }
         },
         "name": "",
         "offsetgroup": "",
         "orientation": "v",
         "showlegend": false,
         "type": "histogram",
         "x": [
          0,
          1
         ],
         "xaxis": "x",
         "y": [
          98.54315468382507,
          1.4568453161749386
         ],
         "yaxis": "y"
        }
       ],
       "layout": {
        "autosize": true,
        "barmode": "relative",
        "legend": {
         "tracegroupgap": 0
        },
        "margin": {
         "t": 60
        },
        "template": {
         "data": {
          "bar": [
           {
            "error_x": {
             "color": "#2a3f5f"
            },
            "error_y": {
             "color": "#2a3f5f"
            },
            "marker": {
             "line": {
              "color": "#E5ECF6",
              "width": 0.5
             },
             "pattern": {
              "fillmode": "overlay",
              "size": 10,
              "solidity": 0.2
             }
            },
            "type": "bar"
           }
          ],
          "barpolar": [
           {
            "marker": {
             "line": {
              "color": "#E5ECF6",
              "width": 0.5
             },
             "pattern": {
              "fillmode": "overlay",
              "size": 10,
              "solidity": 0.2
             }
            },
            "type": "barpolar"
           }
          ],
          "carpet": [
           {
            "aaxis": {
             "endlinecolor": "#2a3f5f",
             "gridcolor": "white",
             "linecolor": "white",
             "minorgridcolor": "white",
             "startlinecolor": "#2a3f5f"
            },
            "baxis": {
             "endlinecolor": "#2a3f5f",
             "gridcolor": "white",
             "linecolor": "white",
             "minorgridcolor": "white",
             "startlinecolor": "#2a3f5f"
            },
            "type": "carpet"
           }
          ],
          "choropleth": [
           {
            "colorbar": {
             "outlinewidth": 0,
             "ticks": ""
            },
            "type": "choropleth"
           }
          ],
          "contour": [
           {
            "colorbar": {
             "outlinewidth": 0,
             "ticks": ""
            },
            "colorscale": [
             [
              0,
              "#0d0887"
             ],
             [
              0.1111111111111111,
              "#46039f"
             ],
             [
              0.2222222222222222,
              "#7201a8"
             ],
             [
              0.3333333333333333,
              "#9c179e"
             ],
             [
              0.4444444444444444,
              "#bd3786"
             ],
             [
              0.5555555555555556,
              "#d8576b"
             ],
             [
              0.6666666666666666,
              "#ed7953"
             ],
             [
              0.7777777777777778,
              "#fb9f3a"
             ],
             [
              0.8888888888888888,
              "#fdca26"
             ],
             [
              1,
              "#f0f921"
             ]
            ],
            "type": "contour"
           }
          ],
          "contourcarpet": [
           {
            "colorbar": {
             "outlinewidth": 0,
             "ticks": ""
            },
            "type": "contourcarpet"
           }
          ],
          "heatmap": [
           {
            "colorbar": {
             "outlinewidth": 0,
             "ticks": ""
            },
            "colorscale": [
             [
              0,
              "#0d0887"
             ],
             [
              0.1111111111111111,
              "#46039f"
             ],
             [
              0.2222222222222222,
              "#7201a8"
             ],
             [
              0.3333333333333333,
              "#9c179e"
             ],
             [
              0.4444444444444444,
              "#bd3786"
             ],
             [
              0.5555555555555556,
              "#d8576b"
             ],
             [
              0.6666666666666666,
              "#ed7953"
             ],
             [
              0.7777777777777778,
              "#fb9f3a"
             ],
             [
              0.8888888888888888,
              "#fdca26"
             ],
             [
              1,
              "#f0f921"
             ]
            ],
            "type": "heatmap"
           }
          ],
          "heatmapgl": [
           {
            "colorbar": {
             "outlinewidth": 0,
             "ticks": ""
            },
            "colorscale": [
             [
              0,
              "#0d0887"
             ],
             [
              0.1111111111111111,
              "#46039f"
             ],
             [
              0.2222222222222222,
              "#7201a8"
             ],
             [
              0.3333333333333333,
              "#9c179e"
             ],
             [
              0.4444444444444444,
              "#bd3786"
             ],
             [
              0.5555555555555556,
              "#d8576b"
             ],
             [
              0.6666666666666666,
              "#ed7953"
             ],
             [
              0.7777777777777778,
              "#fb9f3a"
             ],
             [
              0.8888888888888888,
              "#fdca26"
             ],
             [
              1,
              "#f0f921"
             ]
            ],
            "type": "heatmapgl"
           }
          ],
          "histogram": [
           {
            "marker": {
             "pattern": {
              "fillmode": "overlay",
              "size": 10,
              "solidity": 0.2
             }
            },
            "type": "histogram"
           }
          ],
          "histogram2d": [
           {
            "colorbar": {
             "outlinewidth": 0,
             "ticks": ""
            },
            "colorscale": [
             [
              0,
              "#0d0887"
             ],
             [
              0.1111111111111111,
              "#46039f"
             ],
             [
              0.2222222222222222,
              "#7201a8"
             ],
             [
              0.3333333333333333,
              "#9c179e"
             ],
             [
              0.4444444444444444,
              "#bd3786"
             ],
             [
              0.5555555555555556,
              "#d8576b"
             ],
             [
              0.6666666666666666,
              "#ed7953"
             ],
             [
              0.7777777777777778,
              "#fb9f3a"
             ],
             [
              0.8888888888888888,
              "#fdca26"
             ],
             [
              1,
              "#f0f921"
             ]
            ],
            "type": "histogram2d"
           }
          ],
          "histogram2dcontour": [
           {
            "colorbar": {
             "outlinewidth": 0,
             "ticks": ""
            },
            "colorscale": [
             [
              0,
              "#0d0887"
             ],
             [
              0.1111111111111111,
              "#46039f"
             ],
             [
              0.2222222222222222,
              "#7201a8"
             ],
             [
              0.3333333333333333,
              "#9c179e"
             ],
             [
              0.4444444444444444,
              "#bd3786"
             ],
             [
              0.5555555555555556,
              "#d8576b"
             ],
             [
              0.6666666666666666,
              "#ed7953"
             ],
             [
              0.7777777777777778,
              "#fb9f3a"
             ],
             [
              0.8888888888888888,
              "#fdca26"
             ],
             [
              1,
              "#f0f921"
             ]
            ],
            "type": "histogram2dcontour"
           }
          ],
          "mesh3d": [
           {
            "colorbar": {
             "outlinewidth": 0,
             "ticks": ""
            },
            "type": "mesh3d"
           }
          ],
          "parcoords": [
           {
            "line": {
             "colorbar": {
              "outlinewidth": 0,
              "ticks": ""
             }
            },
            "type": "parcoords"
           }
          ],
          "pie": [
           {
            "automargin": true,
            "type": "pie"
           }
          ],
          "scatter": [
           {
            "marker": {
             "colorbar": {
              "outlinewidth": 0,
              "ticks": ""
             }
            },
            "type": "scatter"
           }
          ],
          "scatter3d": [
           {
            "line": {
             "colorbar": {
              "outlinewidth": 0,
              "ticks": ""
             }
            },
            "marker": {
             "colorbar": {
              "outlinewidth": 0,
              "ticks": ""
             }
            },
            "type": "scatter3d"
           }
          ],
          "scattercarpet": [
           {
            "marker": {
             "colorbar": {
              "outlinewidth": 0,
              "ticks": ""
             }
            },
            "type": "scattercarpet"
           }
          ],
          "scattergeo": [
           {
            "marker": {
             "colorbar": {
              "outlinewidth": 0,
              "ticks": ""
             }
            },
            "type": "scattergeo"
           }
          ],
          "scattergl": [
           {
            "marker": {
             "colorbar": {
              "outlinewidth": 0,
              "ticks": ""
             }
            },
            "type": "scattergl"
           }
          ],
          "scattermapbox": [
           {
            "marker": {
             "colorbar": {
              "outlinewidth": 0,
              "ticks": ""
             }
            },
            "type": "scattermapbox"
           }
          ],
          "scatterpolar": [
           {
            "marker": {
             "colorbar": {
              "outlinewidth": 0,
              "ticks": ""
             }
            },
            "type": "scatterpolar"
           }
          ],
          "scatterpolargl": [
           {
            "marker": {
             "colorbar": {
              "outlinewidth": 0,
              "ticks": ""
             }
            },
            "type": "scatterpolargl"
           }
          ],
          "scatterternary": [
           {
            "marker": {
             "colorbar": {
              "outlinewidth": 0,
              "ticks": ""
             }
            },
            "type": "scatterternary"
           }
          ],
          "surface": [
           {
            "colorbar": {
             "outlinewidth": 0,
             "ticks": ""
            },
            "colorscale": [
             [
              0,
              "#0d0887"
             ],
             [
              0.1111111111111111,
              "#46039f"
             ],
             [
              0.2222222222222222,
              "#7201a8"
             ],
             [
              0.3333333333333333,
              "#9c179e"
             ],
             [
              0.4444444444444444,
              "#bd3786"
             ],
             [
              0.5555555555555556,
              "#d8576b"
             ],
             [
              0.6666666666666666,
              "#ed7953"
             ],
             [
              0.7777777777777778,
              "#fb9f3a"
             ],
             [
              0.8888888888888888,
              "#fdca26"
             ],
             [
              1,
              "#f0f921"
             ]
            ],
            "type": "surface"
           }
          ],
          "table": [
           {
            "cells": {
             "fill": {
              "color": "#EBF0F8"
             },
             "line": {
              "color": "white"
             }
            },
            "header": {
             "fill": {
              "color": "#C8D4E3"
             },
             "line": {
              "color": "white"
             }
            },
            "type": "table"
           }
          ]
         },
         "layout": {
          "annotationdefaults": {
           "arrowcolor": "#2a3f5f",
           "arrowhead": 0,
           "arrowwidth": 1
          },
          "autotypenumbers": "strict",
          "coloraxis": {
           "colorbar": {
            "outlinewidth": 0,
            "ticks": ""
           }
          },
          "colorscale": {
           "diverging": [
            [
             0,
             "#8e0152"
            ],
            [
             0.1,
             "#c51b7d"
            ],
            [
             0.2,
             "#de77ae"
            ],
            [
             0.3,
             "#f1b6da"
            ],
            [
             0.4,
             "#fde0ef"
            ],
            [
             0.5,
             "#f7f7f7"
            ],
            [
             0.6,
             "#e6f5d0"
            ],
            [
             0.7,
             "#b8e186"
            ],
            [
             0.8,
             "#7fbc41"
            ],
            [
             0.9,
             "#4d9221"
            ],
            [
             1,
             "#276419"
            ]
           ],
           "sequential": [
            [
             0,
             "#0d0887"
            ],
            [
             0.1111111111111111,
             "#46039f"
            ],
            [
             0.2222222222222222,
             "#7201a8"
            ],
            [
             0.3333333333333333,
             "#9c179e"
            ],
            [
             0.4444444444444444,
             "#bd3786"
            ],
            [
             0.5555555555555556,
             "#d8576b"
            ],
            [
             0.6666666666666666,
             "#ed7953"
            ],
            [
             0.7777777777777778,
             "#fb9f3a"
            ],
            [
             0.8888888888888888,
             "#fdca26"
            ],
            [
             1,
             "#f0f921"
            ]
           ],
           "sequentialminus": [
            [
             0,
             "#0d0887"
            ],
            [
             0.1111111111111111,
             "#46039f"
            ],
            [
             0.2222222222222222,
             "#7201a8"
            ],
            [
             0.3333333333333333,
             "#9c179e"
            ],
            [
             0.4444444444444444,
             "#bd3786"
            ],
            [
             0.5555555555555556,
             "#d8576b"
            ],
            [
             0.6666666666666666,
             "#ed7953"
            ],
            [
             0.7777777777777778,
             "#fb9f3a"
            ],
            [
             0.8888888888888888,
             "#fdca26"
            ],
            [
             1,
             "#f0f921"
            ]
           ]
          },
          "colorway": [
           "#636efa",
           "#EF553B",
           "#00cc96",
           "#ab63fa",
           "#FFA15A",
           "#19d3f3",
           "#FF6692",
           "#B6E880",
           "#FF97FF",
           "#FECB52"
          ],
          "font": {
           "color": "#2a3f5f"
          },
          "geo": {
           "bgcolor": "white",
           "lakecolor": "white",
           "landcolor": "#E5ECF6",
           "showlakes": true,
           "showland": true,
           "subunitcolor": "white"
          },
          "hoverlabel": {
           "align": "left"
          },
          "hovermode": "closest",
          "mapbox": {
           "style": "light"
          },
          "paper_bgcolor": "white",
          "plot_bgcolor": "#E5ECF6",
          "polar": {
           "angularaxis": {
            "gridcolor": "white",
            "linecolor": "white",
            "ticks": ""
           },
           "bgcolor": "#E5ECF6",
           "radialaxis": {
            "gridcolor": "white",
            "linecolor": "white",
            "ticks": ""
           }
          },
          "scene": {
           "xaxis": {
            "backgroundcolor": "#E5ECF6",
            "gridcolor": "white",
            "gridwidth": 2,
            "linecolor": "white",
            "showbackground": true,
            "ticks": "",
            "zerolinecolor": "white"
           },
           "yaxis": {
            "backgroundcolor": "#E5ECF6",
            "gridcolor": "white",
            "gridwidth": 2,
            "linecolor": "white",
            "showbackground": true,
            "ticks": "",
            "zerolinecolor": "white"
           },
           "zaxis": {
            "backgroundcolor": "#E5ECF6",
            "gridcolor": "white",
            "gridwidth": 2,
            "linecolor": "white",
            "showbackground": true,
            "ticks": "",
            "zerolinecolor": "white"
           }
          },
          "shapedefaults": {
           "line": {
            "color": "#2a3f5f"
           }
          },
          "ternary": {
           "aaxis": {
            "gridcolor": "white",
            "linecolor": "white",
            "ticks": ""
           },
           "baxis": {
            "gridcolor": "white",
            "linecolor": "white",
            "ticks": ""
           },
           "bgcolor": "#E5ECF6",
           "caxis": {
            "gridcolor": "white",
            "linecolor": "white",
            "ticks": ""
           }
          },
          "title": {
           "x": 0.05
          },
          "xaxis": {
           "automargin": true,
           "gridcolor": "white",
           "linecolor": "white",
           "ticks": "",
           "title": {
            "standoff": 15
           },
           "zerolinecolor": "white",
           "zerolinewidth": 2
          },
          "yaxis": {
           "automargin": true,
           "gridcolor": "white",
           "linecolor": "white",
           "ticks": "",
           "title": {
            "standoff": 15
           },
           "zerolinecolor": "white",
           "zerolinewidth": 2
          }
         }
        },
        "xaxis": {
         "anchor": "y",
         "autorange": true,
         "domain": [
          0,
          1
         ],
         "range": [
          -0.5,
          1.5
         ],
         "title": {
          "text": "index"
         },
         "type": "category"
        },
        "yaxis": {
         "anchor": "x",
         "autorange": true,
         "domain": [
          0,
          1
         ],
         "range": [
          0,
          103.72963650928955
         ],
         "title": {
          "text": "sum of percent"
         },
         "type": "linear"
        }
       }
      },
      "image/png": "[encoded data removed]",
      "text/html": [
       "<div>                            <div id=\"5cfc411a-e499-4f47-9219-8212429458de\" class=\"plotly-graph-div\" style=\"height:525px; width:100%;\"></div>            <script type=\"text/javascript\">                require([\"plotly\"], function(Plotly) {                    window.PLOTLYENV=window.PLOTLYENV || {};                                    if (document.getElementById(\"5cfc411a-e499-4f47-9219-8212429458de\")) {                    Plotly.newPlot(                        \"5cfc411a-e499-4f47-9219-8212429458de\",                        [{\"alignmentgroup\":\"True\",\"bingroup\":\"x\",\"histfunc\":\"sum\",\"hovertemplate\":\"index=%{x}<br>sum of percent=%{y}<extra></extra>\",\"legendgroup\":\"\",\"marker\":{\"color\":\"#636efa\",\"pattern\":{\"shape\":\"\"}},\"name\":\"\",\"offsetgroup\":\"\",\"orientation\":\"v\",\"showlegend\":false,\"x\":[0,1],\"xaxis\":\"x\",\"y\":[98.54315468382507,1.4568453161749386],\"yaxis\":\"y\",\"type\":\"histogram\"}],                        {\"template\":{\"data\":{\"bar\":[{\"error_x\":{\"color\":\"#2a3f5f\"},\"error_y\":{\"color\":\"#2a3f5f\"},\"marker\":{\"line\":{\"color\":\"#E5ECF6\",\"width\":0.5},\"pattern\":{\"fillmode\":\"overlay\",\"size\":10,\"solidity\":0.2}},\"type\":\"bar\"}],\"barpolar\":[{\"marker\":{\"line\":{\"color\":\"#E5ECF6\",\"width\":0.5},\"pattern\":{\"fillmode\":\"overlay\",\"size\":10,\"solidity\":0.2}},\"type\":\"barpolar\"}],\"carpet\":[{\"aaxis\":{\"endlinecolor\":\"#2a3f5f\",\"gridcolor\":\"white\",\"linecolor\":\"white\",\"minorgridcolor\":\"white\",\"startlinecolor\":\"#2a3f5f\"},\"baxis\":{\"endlinecolor\":\"#2a3f5f\",\"gridcolor\":\"white\",\"linecolor\":\"white\",\"minorgridcolor\":\"white\",\"startlinecolor\":\"#2a3f5f\"},\"type\":\"carpet\"}],\"choropleth\":[{\"colorbar\":{\"outlinewidth\":0,\"ticks\":\"\"},\"type\":\"choropleth\"}],\"contour\":[{\"colorbar\":{\"outlinewidth\":0,\"ticks\":\"\"},\"colorscale\":[[0.0,\"#0d0887\"],[0.1111111111111111,\"#46039f\"],[0.2222222222222222,\"#7201a8\"],[0.3333333333333333,\"#9c179e\"],[0.4444444444444444,\"#bd3786\"],[0.5555555555555556,\"#d8576b\"],[0.6666666666666666,\"#ed7953\"],[0.7777777777777778,\"#fb9f3a\"],[0.8888888888888888,\"#fdca26\"],[1.0,\"#f0f921\"]],\"type\":\"contour\"}],\"contourcarpet\":[{\"colorbar\":{\"outlinewidth\":0,\"ticks\":\"\"},\"type\":\"contourcarpet\"}],\"heatmap\":[{\"colorbar\":{\"outlinewidth\":0,\"ticks\":\"\"},\"colorscale\":[[0.0,\"#0d0887\"],[0.1111111111111111,\"#46039f\"],[0.2222222222222222,\"#7201a8\"],[0.3333333333333333,\"#9c179e\"],[0.4444444444444444,\"#bd3786\"],[0.5555555555555556,\"#d8576b\"],[0.6666666666666666,\"#ed7953\"],[0.7777777777777778,\"#fb9f3a\"],[0.8888888888888888,\"#fdca26\"],[1.0,\"#f0f921\"]],\"type\":\"heatmap\"}],\"heatmapgl\":[{\"colorbar\":{\"outlinewidth\":0,\"ticks\":\"\"},\"colorscale\":[[0.0,\"#0d0887\"],[0.1111111111111111,\"#46039f\"],[0.2222222222222222,\"#7201a8\"],[0.3333333333333333,\"#9c179e\"],[0.4444444444444444,\"#bd3786\"],[0.5555555555555556,\"#d8576b\"],[0.6666666666666666,\"#ed7953\"],[0.7777777777777778,\"#fb9f3a\"],[0.8888888888888888,\"#fdca26\"],[1.0,\"#f0f921\"]],\"type\":\"heatmapgl\"}],\"histogram\":[{\"marker\":{\"pattern\":{\"fillmode\":\"overlay\",\"size\":10,\"solidity\":0.2}},\"type\":\"histogram\"}],\"histogram2d\":[{\"colorbar\":{\"outlinewidth\":0,\"ticks\":\"\"},\"colorscale\":[[0.0,\"#0d0887\"],[0.1111111111111111,\"#46039f\"],[0.2222222222222222,\"#7201a8\"],[0.3333333333333333,\"#9c179e\"],[0.4444444444444444,\"#bd3786\"],[0.5555555555555556,\"#d8576b\"],[0.6666666666666666,\"#ed7953\"],[0.7777777777777778,\"#fb9f3a\"],[0.8888888888888888,\"#fdca26\"],[1.0,\"#f0f921\"]],\"type\":\"histogram2d\"}],\"histogram2dcontour\":[{\"colorbar\":{\"outlinewidth\":0,\"ticks\":\"\"},\"colorscale\":[[0.0,\"#0d0887\"],[0.1111111111111111,\"#46039f\"],[0.2222222222222222,\"#7201a8\"],[0.3333333333333333,\"#9c179e\"],[0.4444444444444444,\"#bd3786\"],[0.5555555555555556,\"#d8576b\"],[0.6666666666666666,\"#ed7953\"],[0.7777777777777778,\"#fb9f3a\"],[0.8888888888888888,\"#fdca26\"],[1.0,\"#f0f921\"]],\"type\":\"histogram2dcontour\"}],\"mesh3d\":[{\"colorbar\":{\"outlinewidth\":0,\"ticks\":\"\"},\"type\":\"mesh3d\"}],\"parcoords\":[{\"line\":{\"colorbar\":{\"outlinewidth\":0,\"ticks\":\"\"}},\"type\":\"parcoords\"}],\"pie\":[{\"automargin\":true,\"type\":\"pie\"}],\"scatter\":[{\"marker\":{\"colorbar\":{\"outlinewidth\":0,\"ticks\":\"\"}},\"type\":\"scatter\"}],\"scatter3d\":[{\"line\":{\"colorbar\":{\"outlinewidth\":0,\"ticks\":\"\"}},\"marker\":{\"colorbar\":{\"outlinewidth\":0,\"ticks\":\"\"}},\"type\":\"scatter3d\"}],\"scattercarpet\":[{\"marker\":{\"colorbar\":{\"outlinewidth\":0,\"ticks\":\"\"}},\"type\":\"scattercarpet\"}],\"scattergeo\":[{\"marker\":{\"colorbar\":{\"outlinewidth\":0,\"ticks\":\"\"}},\"type\":\"scattergeo\"}],\"scattergl\":[{\"marker\":{\"colorbar\":{\"outlinewidth\":0,\"ticks\":\"\"}},\"type\":\"scattergl\"}],\"scattermapbox\":[{\"marker\":{\"colorbar\":{\"outlinewidth\":0,\"ticks\":\"\"}},\"type\":\"scattermapbox\"}],\"scatterpolar\":[{\"marker\":{\"colorbar\":{\"outlinewidth\":0,\"ticks\":\"\"}},\"type\":\"scatterpolar\"}],\"scatterpolargl\":[{\"marker\":{\"colorbar\":{\"outlinewidth\":0,\"ticks\":\"\"}},\"type\":\"scatterpolargl\"}],\"scatterternary\":[{\"marker\":{\"colorbar\":{\"outlinewidth\":0,\"ticks\":\"\"}},\"type\":\"scatterternary\"}],\"surface\":[{\"colorbar\":{\"outlinewidth\":0,\"ticks\":\"\"},\"colorscale\":[[0.0,\"#0d0887\"],[0.1111111111111111,\"#46039f\"],[0.2222222222222222,\"#7201a8\"],[0.3333333333333333,\"#9c179e\"],[0.4444444444444444,\"#bd3786\"],[0.5555555555555556,\"#d8576b\"],[0.6666666666666666,\"#ed7953\"],[0.7777777777777778,\"#fb9f3a\"],[0.8888888888888888,\"#fdca26\"],[1.0,\"#f0f921\"]],\"type\":\"surface\"}],\"table\":[{\"cells\":{\"fill\":{\"color\":\"#EBF0F8\"},\"line\":{\"color\":\"white\"}},\"header\":{\"fill\":{\"color\":\"#C8D4E3\"},\"line\":{\"color\":\"white\"}},\"type\":\"table\"}]},\"layout\":{\"annotationdefaults\":{\"arrowcolor\":\"#2a3f5f\",\"arrowhead\":0,\"arrowwidth\":1},\"autotypenumbers\":\"strict\",\"coloraxis\":{\"colorbar\":{\"outlinewidth\":0,\"ticks\":\"\"}},\"colorscale\":{\"diverging\":[[0,\"#8e0152\"],[0.1,\"#c51b7d\"],[0.2,\"#de77ae\"],[0.3,\"#f1b6da\"],[0.4,\"#fde0ef\"],[0.5,\"#f7f7f7\"],[0.6,\"#e6f5d0\"],[0.7,\"#b8e186\"],[0.8,\"#7fbc41\"],[0.9,\"#4d9221\"],[1,\"#276419\"]],\"sequential\":[[0.0,\"#0d0887\"],[0.1111111111111111,\"#46039f\"],[0.2222222222222222,\"#7201a8\"],[0.3333333333333333,\"#9c179e\"],[0.4444444444444444,\"#bd3786\"],[0.5555555555555556,\"#d8576b\"],[0.6666666666666666,\"#ed7953\"],[0.7777777777777778,\"#fb9f3a\"],[0.8888888888888888,\"#fdca26\"],[1.0,\"#f0f921\"]],\"sequentialminus\":[[0.0,\"#0d0887\"],[0.1111111111111111,\"#46039f\"],[0.2222222222222222,\"#7201a8\"],[0.3333333333333333,\"#9c179e\"],[0.4444444444444444,\"#bd3786\"],[0.5555555555555556,\"#d8576b\"],[0.6666666666666666,\"#ed7953\"],[0.7777777777777778,\"#fb9f3a\"],[0.8888888888888888,\"#fdca26\"],[1.0,\"#f0f921\"]]},\"colorway\":[\"#636efa\",\"#EF553B\",\"#00cc96\",\"#ab63fa\",\"#FFA15A\",\"#19d3f3\",\"#FF6692\",\"#B6E880\",\"#FF97FF\",\"#FECB52\"],\"font\":{\"color\":\"#2a3f5f\"},\"geo\":{\"bgcolor\":\"white\",\"lakecolor\":\"white\",\"landcolor\":\"#E5ECF6\",\"showlakes\":true,\"showland\":true,\"subunitcolor\":\"white\"},\"hoverlabel\":{\"align\":\"left\"},\"hovermode\":\"closest\",\"mapbox\":{\"style\":\"light\"},\"paper_bgcolor\":\"white\",\"plot_bgcolor\":\"#E5ECF6\",\"polar\":{\"angularaxis\":{\"gridcolor\":\"white\",\"linecolor\":\"white\",\"ticks\":\"\"},\"bgcolor\":\"#E5ECF6\",\"radialaxis\":{\"gridcolor\":\"white\",\"linecolor\":\"white\",\"ticks\":\"\"}},\"scene\":{\"xaxis\":{\"backgroundcolor\":\"#E5ECF6\",\"gridcolor\":\"white\",\"gridwidth\":2,\"linecolor\":\"white\",\"showbackground\":true,\"ticks\":\"\",\"zerolinecolor\":\"white\"},\"yaxis\":{\"backgroundcolor\":\"#E5ECF6\",\"gridcolor\":\"white\",\"gridwidth\":2,\"linecolor\":\"white\",\"showbackground\":true,\"ticks\":\"\",\"zerolinecolor\":\"white\"},\"zaxis\":{\"backgroundcolor\":\"#E5ECF6\",\"gridcolor\":\"white\",\"gridwidth\":2,\"linecolor\":\"white\",\"showbackground\":true,\"ticks\":\"\",\"zerolinecolor\":\"white\"}},\"shapedefaults\":{\"line\":{\"color\":\"#2a3f5f\"}},\"ternary\":{\"aaxis\":{\"gridcolor\":\"white\",\"linecolor\":\"white\",\"ticks\":\"\"},\"baxis\":{\"gridcolor\":\"white\",\"linecolor\":\"white\",\"ticks\":\"\"},\"bgcolor\":\"#E5ECF6\",\"caxis\":{\"gridcolor\":\"white\",\"linecolor\":\"white\",\"ticks\":\"\"}},\"title\":{\"x\":0.05},\"xaxis\":{\"automargin\":true,\"gridcolor\":\"white\",\"linecolor\":\"white\",\"ticks\":\"\",\"title\":{\"standoff\":15},\"zerolinecolor\":\"white\",\"zerolinewidth\":2},\"yaxis\":{\"automargin\":true,\"gridcolor\":\"white\",\"linecolor\":\"white\",\"ticks\":\"\",\"title\":{\"standoff\":15},\"zerolinecolor\":\"white\",\"zerolinewidth\":2}}},\"xaxis\":{\"anchor\":\"y\",\"domain\":[0.0,1.0],\"title\":{\"text\":\"index\"},\"type\":\"category\"},\"yaxis\":{\"anchor\":\"x\",\"domain\":[0.0,1.0],\"title\":{\"text\":\"sum of percent\"}},\"legend\":{\"tracegroupgap\":0},\"margin\":{\"t\":60},\"barmode\":\"relative\"},                        {\"responsive\": true}                    ).then(function(){\n",
       "                            \n",
       "var gd = document.getElementById('5cfc411a-e499-4f47-9219-8212429458de');\n",
       "var x = new MutationObserver(function (mutations, observer) {{\n",
       "        var display = window.getComputedStyle(gd).display;\n",
       "        if (!display || display === 'none') {{\n",
       "            console.log([gd, 'removed!']);\n",
       "            Plotly.purge(gd);\n",
       "            observer.disconnect();\n",
       "        }}\n",
       "}});\n",
       "\n",
       "// Listen for the removal of the full notebook cells\n",
       "var notebookContainer = gd.closest('#notebook-container');\n",
       "if (notebookContainer) {{\n",
       "    x.observe(notebookContainer, {childList: true});\n",
       "}}\n",
       "\n",
       "// Listen for the clearing of the current output cell\n",
       "var outputEl = gd.closest('.output');\n",
       "if (outputEl) {{\n",
       "    x.observe(outputEl, {childList: true});\n",
       "}}\n",
       "\n",
       "                        })                };                });            </script>        </div>"
      ]
     },
     "metadata": {},
     "output_type": "display_data"
    }
   ],
   "source": [
    "fig = px.histogram(df_plot_fatalities, x='index', y='percent')\n",
    "fig.update_xaxes(type='category')\n",
    "fig.show()"
   ]
  },
  {
   "cell_type": "markdown",
   "id": "055b812e",
   "metadata": {},
   "source": [
    "Observamos si hay alguna columna duplicada en el dataframe"
   ]
  },
  {
   "cell_type": "code",
   "execution_count": 11,
   "id": "0af7c7a2",
   "metadata": {},
   "outputs": [],
   "source": [
    "def duplicate_columns(frame):\n",
    "    groups = frame.columns.to_series().groupby(frame.dtypes).groups \n",
    "    dups = []\n",
    "    \n",
    "    for t, v in groups.items():\n",
    "        cs = frame[v].columns \n",
    "        vs = frame[v]\n",
    "        lcs = len(cs)\n",
    "        \n",
    "        for i in range(lcs):\n",
    "            ia = vs.iloc[:,i].values \n",
    "            for j in range(i+1, lcs):\n",
    "                ja = vs.iloc[:,j].values \n",
    "                if np.array_equal(ia, ja):\n",
    "                    dups.append(cs[i]) \n",
    "                    break\n",
    "                \n",
    "    return dups"
   ]
  },
  {
   "cell_type": "code",
   "execution_count": 22,
   "id": "02f7d711",
   "metadata": {},
   "outputs": [
    {
     "data": {
      "text/plain": [
       "[]"
      ]
     },
     "execution_count": 22,
     "metadata": {},
     "output_type": "execute_result"
    }
   ],
   "source": [
    "duplicate_cols = duplicate_columns(df_data)\n",
    "duplicate_cols"
   ]
  },
  {
   "cell_type": "markdown",
   "id": "47e76ab8",
   "metadata": {},
   "source": [
    "### Preprocesamiento inicial de las variables:\n",
    "Observamos que no hay valores nulos en el dataset."
   ]
  },
  {
   "cell_type": "code",
   "execution_count": 29,
   "id": "7769f371",
   "metadata": {},
   "outputs": [
    {
     "data": {
      "text/html": [
       "<div>\n",
       "<style scoped>\n",
       "    .dataframe tbody tr th:only-of-type {\n",
       "        vertical-align: middle;\n",
       "    }\n",
       "\n",
       "    .dataframe tbody tr th {\n",
       "        vertical-align: top;\n",
       "    }\n",
       "\n",
       "    .dataframe thead th {\n",
       "        text-align: right;\n",
       "    }\n",
       "</style>\n",
       "<table border=\"1\" class=\"dataframe\">\n",
       "  <thead>\n",
       "    <tr style=\"text-align: right;\">\n",
       "      <th></th>\n",
       "      <th>index</th>\n",
       "      <th>missing_value</th>\n",
       "      <th>feature_type</th>\n",
       "    </tr>\n",
       "  </thead>\n",
       "  <tbody>\n",
       "    <tr>\n",
       "      <th>0</th>\n",
       "      <td>C_YEAR</td>\n",
       "      <td>0</td>\n",
       "      <td>int64</td>\n",
       "    </tr>\n",
       "    <tr>\n",
       "      <th>1</th>\n",
       "      <td>P_SAFE</td>\n",
       "      <td>0</td>\n",
       "      <td>object</td>\n",
       "    </tr>\n",
       "    <tr>\n",
       "      <th>2</th>\n",
       "      <td>P_PSN</td>\n",
       "      <td>0</td>\n",
       "      <td>object</td>\n",
       "    </tr>\n",
       "    <tr>\n",
       "      <th>3</th>\n",
       "      <td>P_AGE</td>\n",
       "      <td>0</td>\n",
       "      <td>object</td>\n",
       "    </tr>\n",
       "    <tr>\n",
       "      <th>4</th>\n",
       "      <td>P_SEX</td>\n",
       "      <td>0</td>\n",
       "      <td>object</td>\n",
       "    </tr>\n",
       "    <tr>\n",
       "      <th>5</th>\n",
       "      <td>V_YEAR</td>\n",
       "      <td>0</td>\n",
       "      <td>object</td>\n",
       "    </tr>\n",
       "    <tr>\n",
       "      <th>6</th>\n",
       "      <td>V_TYPE</td>\n",
       "      <td>0</td>\n",
       "      <td>object</td>\n",
       "    </tr>\n",
       "    <tr>\n",
       "      <th>7</th>\n",
       "      <td>C_TRAF</td>\n",
       "      <td>0</td>\n",
       "      <td>object</td>\n",
       "    </tr>\n",
       "    <tr>\n",
       "      <th>8</th>\n",
       "      <td>C_RALN</td>\n",
       "      <td>0</td>\n",
       "      <td>object</td>\n",
       "    </tr>\n",
       "    <tr>\n",
       "      <th>9</th>\n",
       "      <td>C_RSUR</td>\n",
       "      <td>0</td>\n",
       "      <td>object</td>\n",
       "    </tr>\n",
       "    <tr>\n",
       "      <th>10</th>\n",
       "      <td>C_WTHR</td>\n",
       "      <td>0</td>\n",
       "      <td>object</td>\n",
       "    </tr>\n",
       "    <tr>\n",
       "      <th>11</th>\n",
       "      <td>C_RCFG</td>\n",
       "      <td>0</td>\n",
       "      <td>object</td>\n",
       "    </tr>\n",
       "    <tr>\n",
       "      <th>12</th>\n",
       "      <td>C_SEV</td>\n",
       "      <td>0</td>\n",
       "      <td>int64</td>\n",
       "    </tr>\n",
       "    <tr>\n",
       "      <th>13</th>\n",
       "      <td>C_HOUR</td>\n",
       "      <td>0</td>\n",
       "      <td>object</td>\n",
       "    </tr>\n",
       "    <tr>\n",
       "      <th>14</th>\n",
       "      <td>C_WDAY</td>\n",
       "      <td>0</td>\n",
       "      <td>object</td>\n",
       "    </tr>\n",
       "    <tr>\n",
       "      <th>15</th>\n",
       "      <td>C_MNTH</td>\n",
       "      <td>0</td>\n",
       "      <td>object</td>\n",
       "    </tr>\n",
       "    <tr>\n",
       "      <th>16</th>\n",
       "      <td>DRIVERS</td>\n",
       "      <td>0</td>\n",
       "      <td>int64</td>\n",
       "    </tr>\n",
       "    <tr>\n",
       "      <th>17</th>\n",
       "      <td>TARGET</td>\n",
       "      <td>0</td>\n",
       "      <td>int64</td>\n",
       "    </tr>\n",
       "  </tbody>\n",
       "</table>\n",
       "</div>"
      ],
      "text/plain": [
       "      index  missing_value feature_type\n",
       "0    C_YEAR              0        int64\n",
       "1    P_SAFE              0       object\n",
       "2     P_PSN              0       object\n",
       "3     P_AGE              0       object\n",
       "4     P_SEX              0       object\n",
       "5    V_YEAR              0       object\n",
       "6    V_TYPE              0       object\n",
       "7    C_TRAF              0       object\n",
       "8    C_RALN              0       object\n",
       "9    C_RSUR              0       object\n",
       "10   C_WTHR              0       object\n",
       "11   C_RCFG              0       object\n",
       "12    C_SEV              0        int64\n",
       "13   C_HOUR              0       object\n",
       "14   C_WDAY              0       object\n",
       "15   C_MNTH              0       object\n",
       "16  DRIVERS              0        int64\n",
       "17   TARGET              0        int64"
      ]
     },
     "execution_count": 29,
     "metadata": {},
     "output_type": "execute_result"
    }
   ],
   "source": [
    "#analizarnulos\n",
    "df_dtypes = pd.merge(df_data.isnull().sum(axis = 0).sort_values().to_frame('missing_value').reset_index(), \n",
    "                     df_data.dtypes.to_frame('feature_type').reset_index(),\n",
    "                     on = 'index', how = 'inner')\n",
    "df_dtypes"
   ]
  },
  {
   "cell_type": "markdown",
   "id": "ac70e7b9",
   "metadata": {},
   "source": [
    "Nos hacemos una idea del tipo de valores unicos que tenemos en cada columna y observamos que son de tipo discreto, es decir no son valores que se puedan fraccionar. Por lo tanto, pasamos a unificar los valores de las variables a enteros para facilitar el procesamiento de datos."
   ]
  },
  {
   "cell_type": "code",
   "execution_count": 30,
   "id": "9b749962",
   "metadata": {},
   "outputs": [
    {
     "name": "stdout",
     "output_type": "stream",
     "text": [
      "2000    0.071728\n",
      "2002    0.071468\n",
      "1999    0.069930\n",
      "2003    0.069761\n",
      "2001    0.069519\n",
      "2004    0.067055\n",
      "2005    0.066963\n",
      "2006    0.065196\n",
      "2007    0.063130\n",
      "2008    0.057719\n",
      "2009    0.055925\n",
      "2010    0.055811\n",
      "2012    0.054945\n",
      "2011    0.054857\n",
      "2013    0.054456\n",
      "2014    0.051537\n",
      "Name: C_YEAR, dtype: float64\n",
      "8     0.091139\n",
      "7     0.089455\n",
      "6     0.089346\n",
      "10    0.088654\n",
      "9     0.088646\n",
      "11    0.085582\n",
      "5     0.080390\n",
      "2     0.071606\n",
      "3     0.071308\n",
      "4     0.067185\n",
      "12    0.047317\n",
      "01    0.045274\n",
      "1     0.041045\n",
      "12    0.041045\n",
      "02    0.001630\n",
      "11    0.000326\n",
      "UU    0.000053\n",
      "Name: C_MNTH, dtype: float64\n",
      "5    0.088700\n",
      "5    0.083245\n",
      "4    0.078101\n",
      "4    0.077069\n",
      "3    0.075144\n",
      "1    0.074579\n",
      "2    0.073214\n",
      "2    0.073107\n",
      "3    0.072873\n",
      "6    0.070833\n",
      "6    0.063344\n",
      "1    0.062530\n",
      "7    0.058854\n",
      "7    0.048178\n",
      "U    0.000229\n",
      "Name: C_WDAY, dtype: float64\n",
      "16    0.090049\n",
      "17    0.086355\n",
      "15    0.083656\n",
      "14    0.067696\n",
      "12    0.063354\n",
      "13    0.062690\n",
      "18    0.061996\n",
      "08    0.056080\n",
      "11    0.052374\n",
      "19    0.045046\n",
      "10    0.044189\n",
      "09    0.041896\n",
      "07    0.040329\n",
      "20    0.034151\n",
      "21    0.031958\n",
      "22    0.025644\n",
      "06    0.020785\n",
      "23    0.019753\n",
      "00    0.013686\n",
      "02    0.011595\n",
      "01    0.011342\n",
      "UU    0.010307\n",
      "03    0.009992\n",
      "05    0.008306\n",
      "04    0.006772\n",
      "Name: C_HOUR, dtype: float64\n",
      "2    0.985432\n",
      "1    0.014568\n",
      "Name: C_SEV, dtype: float64\n",
      "02    0.469632\n",
      "01    0.355050\n",
      "UU    0.085282\n",
      "03    0.048491\n",
      "QQ    0.024212\n",
      "05    0.009289\n",
      "04    0.004394\n",
      "08    0.002024\n",
      "06    0.001098\n",
      "09    0.000299\n",
      "07    0.000164\n",
      "10    0.000066\n",
      "Name: C_RCFG, dtype: float64\n",
      "1    0.694780\n",
      "2    0.105512\n",
      "3    0.100763\n",
      "4    0.060006\n",
      "U    0.014746\n",
      "6    0.014212\n",
      "5    0.005020\n",
      "7    0.002515\n",
      "Q    0.002447\n",
      "Name: C_WTHR, dtype: float64\n",
      "1    0.657660\n",
      "2    0.183964\n",
      "5    0.054881\n",
      "3    0.045232\n",
      "Q    0.027728\n",
      "U    0.013463\n",
      "4    0.012051\n",
      "6    0.003870\n",
      "7    0.000877\n",
      "8    0.000237\n",
      "9    0.000038\n",
      "Name: C_RSUR, dtype: float64\n",
      "1    0.714289\n",
      "2    0.099761\n",
      "U    0.070827\n",
      "3    0.061510\n",
      "4    0.037221\n",
      "5    0.006284\n",
      "Q    0.005539\n",
      "6    0.004571\n",
      "Name: C_RALN, dtype: float64\n",
      "18    0.524116\n",
      "01    0.277190\n",
      "03    0.111770\n",
      "UU    0.038424\n",
      "04    0.015752\n",
      "QQ    0.013856\n",
      "06    0.006826\n",
      "08    0.004138\n",
      "02    0.003271\n",
      "05    0.000759\n",
      "13    0.000700\n",
      "15    0.000680\n",
      "11    0.000626\n",
      "10    0.000455\n",
      "17    0.000417\n",
      "12    0.000388\n",
      "07    0.000379\n",
      "16    0.000152\n",
      "09    0.000101\n",
      "Name: C_TRAF, dtype: float64\n",
      "01    0.844789\n",
      "06    0.031147\n",
      "17    0.027208\n",
      "14    0.023992\n",
      "07    0.018805\n",
      "08    0.016274\n",
      "05    0.011675\n",
      "UU    0.006572\n",
      "11    0.006333\n",
      "QQ    0.004546\n",
      "09    0.001794\n",
      "20    0.001688\n",
      "NN    0.001615\n",
      "16    0.001298\n",
      "22    0.000788\n",
      "23    0.000472\n",
      "18    0.000443\n",
      "19    0.000367\n",
      "21    0.000102\n",
      "10    0.000092\n",
      "Name: V_TYPE, dtype: float64\n",
      "UUUU    6.608337e-02\n",
      "2000    5.655301e-02\n",
      "1998    5.160177e-02\n",
      "2002    5.129714e-02\n",
      "1999    5.047852e-02\n",
      "2003    4.900020e-02\n",
      "2001    4.890596e-02\n",
      "1997    4.596792e-02\n",
      "2005    3.994360e-02\n",
      "2004    3.941304e-02\n",
      "1995    3.932135e-02\n",
      "1996    3.446995e-02\n",
      "1994    3.400282e-02\n",
      "1992    3.360191e-02\n",
      "2006    3.355326e-02\n",
      "1993    3.268777e-02\n",
      "2007    3.250795e-02\n",
      "1991    2.948738e-02\n",
      "1990    2.773780e-02\n",
      "2008    2.585883e-02\n",
      "1989    2.437517e-02\n",
      "1988    2.122190e-02\n",
      "2009    1.862899e-02\n",
      "2010    1.614458e-02\n",
      "1987    1.452312e-02\n",
      "1986    1.216351e-02\n",
      "2011    1.132731e-02\n",
      "NNNN    1.026468e-02\n",
      "2012    8.987322e-03\n",
      "1985    8.083878e-03\n",
      "2013    6.151419e-03\n",
      "1984    5.741596e-03\n",
      "1983    3.271706e-03\n",
      "1981    2.983124e-03\n",
      "2014    2.464796e-03\n",
      "1982    2.446202e-03\n",
      "1980    2.078915e-03\n",
      "1979    1.536390e-03\n",
      "1978    1.075881e-03\n",
      "1977    8.023258e-04\n",
      "1976    5.183279e-04\n",
      "1975    3.998894e-04\n",
      "1974    3.036103e-04\n",
      "1973    2.654043e-04\n",
      "1972    2.547066e-04\n",
      "2015    2.114065e-04\n",
      "1970    1.726911e-04\n",
      "1969    1.597010e-04\n",
      "1971    1.563898e-04\n",
      "1968    1.372869e-04\n",
      "1967    1.207309e-04\n",
      "1966    9.016613e-05\n",
      "1965    7.437433e-05\n",
      "1964    4.661131e-05\n",
      "1963    3.081950e-05\n",
      "1962    2.750831e-05\n",
      "1960    2.343301e-05\n",
      "1959    1.681064e-05\n",
      "1957    1.502769e-05\n",
      "1961    1.502769e-05\n",
      "1956    1.426357e-05\n",
      "1939    1.400886e-05\n",
      "1958    1.349945e-05\n",
      "1955    1.349945e-05\n",
      "1950    9.169437e-06\n",
      "1952    8.660024e-06\n",
      "1947    7.386491e-06\n",
      "1949    7.386491e-06\n",
      "1951    7.386491e-06\n",
      "1953    7.131785e-06\n",
      "1954    6.877078e-06\n",
      "1948    6.367665e-06\n",
      "1938    5.858252e-06\n",
      "1920    5.858252e-06\n",
      "1930    5.603545e-06\n",
      "1940    4.839425e-06\n",
      "1931    4.584719e-06\n",
      "1928    4.075306e-06\n",
      "1915    4.075306e-06\n",
      "1946    3.820599e-06\n",
      "1945    3.565892e-06\n",
      "1926    3.311186e-06\n",
      "1937    3.311186e-06\n",
      "1919    3.056479e-06\n",
      "1914    2.801773e-06\n",
      "1935    2.547066e-06\n",
      "1929    2.547066e-06\n",
      "1941    2.547066e-06\n",
      "1944    2.292359e-06\n",
      "1933    2.292359e-06\n",
      "1925    2.292359e-06\n",
      "1901    2.292359e-06\n",
      "1923    2.292359e-06\n",
      "1934    2.037653e-06\n",
      "1942    2.037653e-06\n",
      "1918    1.782946e-06\n",
      "1922    1.782946e-06\n",
      "1911    1.782946e-06\n",
      "1932    1.782946e-06\n",
      "1927    1.528240e-06\n",
      "1912    1.528240e-06\n",
      "1916    1.273533e-06\n",
      "1917    1.018826e-06\n",
      "1921    1.018826e-06\n",
      "1903    1.018826e-06\n",
      "1943    7.641198e-07\n",
      "1908    7.641198e-07\n",
      "1924    7.641198e-07\n",
      "1913    5.094132e-07\n",
      "1936    5.094132e-07\n",
      "1907    5.094132e-07\n",
      "1904    5.094132e-07\n",
      "1909    5.094132e-07\n",
      "1905    2.547066e-07\n",
      "1910    2.547066e-07\n",
      "1906    2.547066e-07\n",
      "Name: V_YEAR, dtype: float64\n",
      "M    0.599855\n",
      "F    0.359995\n",
      "U    0.039729\n",
      "N    0.000422\n",
      "Name: P_SEX, dtype: float64\n",
      "UU    0.052392\n",
      "19    0.027071\n",
      "18    0.026777\n",
      "20    0.026266\n",
      "21    0.025263\n",
      "22    0.024132\n",
      "23    0.023232\n",
      "17    0.022549\n",
      "24    0.022133\n",
      "25    0.021652\n",
      "26    0.020699\n",
      "27    0.020117\n",
      "40    0.019759\n",
      "41    0.019677\n",
      "28    0.019673\n",
      "39    0.019579\n",
      "42    0.019576\n",
      "38    0.019394\n",
      "43    0.019387\n",
      "37    0.019327\n",
      "44    0.019245\n",
      "29    0.019123\n",
      "30    0.019041\n",
      "36    0.019038\n",
      "35    0.018994\n",
      "45    0.018922\n",
      "34    0.018734\n",
      "31    0.018706\n",
      "33    0.018669\n",
      "32    0.018560\n",
      "46    0.018424\n",
      "47    0.017911\n",
      "48    0.017534\n",
      "49    0.017009\n",
      "50    0.016272\n",
      "51    0.015877\n",
      "52    0.015122\n",
      "53    0.014587\n",
      "54    0.013767\n",
      "55    0.012979\n",
      "56    0.012207\n",
      "57    0.011475\n",
      "58    0.010818\n",
      "59    0.010149\n",
      "60    0.009410\n",
      "16    0.009261\n",
      "61    0.008717\n",
      "62    0.008120\n",
      "63    0.007557\n",
      "64    0.007080\n",
      "65    0.006512\n",
      "66    0.005984\n",
      "67    0.005561\n",
      "68    0.005211\n",
      "69    0.004857\n",
      "70    0.004694\n",
      "71    0.004441\n",
      "72    0.004233\n",
      "73    0.003983\n",
      "74    0.003818\n",
      "75    0.003575\n",
      "76    0.003445\n",
      "77    0.003235\n",
      "78    0.003005\n",
      "79    0.002820\n",
      "80    0.002483\n",
      "81    0.002175\n",
      "15    0.002157\n",
      "82    0.001929\n",
      "83    0.001704\n",
      "14    0.001664\n",
      "84    0.001409\n",
      "85    0.001180\n",
      "86    0.000968\n",
      "NN    0.000894\n",
      "13    0.000763\n",
      "87    0.000746\n",
      "12    0.000611\n",
      "88    0.000562\n",
      "11    0.000478\n",
      "89    0.000415\n",
      "10    0.000402\n",
      "09    0.000361\n",
      "90    0.000309\n",
      "08    0.000289\n",
      "07    0.000239\n",
      "91    0.000192\n",
      "06    0.000173\n",
      "92    0.000128\n",
      "05    0.000109\n",
      "93    0.000078\n",
      "94    0.000049\n",
      "04    0.000047\n",
      "95    0.000030\n",
      "99    0.000027\n",
      "01    0.000024\n",
      "03    0.000018\n",
      "96    0.000017\n",
      "02    0.000017\n",
      "98    0.000010\n",
      "97    0.000007\n",
      "Name: P_AGE, dtype: float64\n",
      "11    1.0\n",
      "Name: P_PSN, dtype: float64\n",
      "02    7.122720e-01\n",
      "UU    1.129226e-01\n",
      "NN    1.107808e-01\n",
      "01    2.520016e-02\n",
      "09    1.781647e-02\n",
      "QQ    9.026292e-03\n",
      "13    8.753756e-03\n",
      "12    3.210577e-03\n",
      "10    1.655593e-05\n",
      "11    7.641198e-07\n",
      "Name: P_SAFE, dtype: float64\n",
      "1    1.0\n",
      "Name: DRIVERS, dtype: float64\n",
      "0    0.985432\n",
      "1    0.014568\n",
      "Name: TARGET, dtype: float64\n"
     ]
    }
   ],
   "source": [
    "for col in df_data:\n",
    "    print(df_data[col].value_counts(normalize=True))"
   ]
  },
  {
   "cell_type": "code",
   "execution_count": 19,
   "id": "ab9c14d0",
   "metadata": {},
   "outputs": [],
   "source": [
    "unknowns_a = {'UU' : 50, 'XX' : 51, 'U' : 52, 'X' : 53, 'NN' : 54, 'Q' : 55, 'QQ' : 56}\n",
    "unknowns_year = { 'UUUU' : 2100,'XXXX' : 2101, 'NNNN' : 2102}\n",
    "unknowns_age = {'UU' : 150, 'XX' : 151, 'NN' : 152, 'QQ' : 153}\n",
    "unknowns_sex = {'U' : 8, 'N' : 9, 'M' : 0, 'F' : 1}"
   ]
  },
  {
   "cell_type": "code",
   "execution_count": 20,
   "id": "79471571-4d66-4272-b0cf-3936fdf84a34",
   "metadata": {},
   "outputs": [
    {
     "data": {
      "text/plain": [
       "Index(['C_MNTH', 'C_WDAY', 'C_HOUR', 'C_RCFG', 'C_WTHR', 'C_RSUR', 'C_RALN',\n",
       "       'C_TRAF', 'V_TYPE', 'P_SAFE', 'V_YEAR', 'C_YEAR', 'P_AGE', 'P_SEX',\n",
       "       'TARGET'],\n",
       "      dtype='object')"
      ]
     },
     "execution_count": 20,
     "metadata": {},
     "output_type": "execute_result"
    }
   ],
   "source": [
    "df_data.columns"
   ]
  },
  {
   "cell_type": "code",
   "execution_count": 21,
   "id": "46435baf",
   "metadata": {},
   "outputs": [],
   "source": [
    "col_cat_a = [\"C_MNTH\", \"C_WDAY\", \"C_HOUR\", \"C_RCFG\", \"C_WTHR\", \"C_RSUR\", \"C_RALN\", \"C_TRAF\", \"V_TYPE\", \"P_SAFE\"]\n",
    "col_cat_year = [\"V_YEAR\", 'C_YEAR']\n",
    "col_cat_age = [\"P_AGE\"]\n",
    "col_cat_sex = [\"P_SEX\"]"
   ]
  },
  {
   "cell_type": "code",
   "execution_count": 22,
   "id": "42136e9e",
   "metadata": {},
   "outputs": [
    {
     "data": {
      "text/plain": [
       "(3926086, 15)"
      ]
     },
     "execution_count": 22,
     "metadata": {},
     "output_type": "execute_result"
    }
   ],
   "source": [
    "df_col_a = df_data[col_cat_a].replace(unknowns_a).astype(object)\n",
    "df_col_year = df_data[col_cat_year].replace(unknowns_year).astype(int)\n",
    "df_col_age = df_data[col_cat_age].replace(unknowns_age).astype(int)\n",
    "df_col_sex = df_data[col_cat_sex].replace(unknowns_sex).astype(object)\n",
    "df_data = pd.concat([df_col_a, df_col_year, df_col_age, df_col_sex, df_data['TARGET']], axis=1).reset_index(drop=True)\n",
    "df_data.shape"
   ]
  },
  {
   "cell_type": "code",
   "execution_count": 23,
   "id": "6339cb68",
   "metadata": {},
   "outputs": [
    {
     "data": {
      "text/html": [
       "<div>\n",
       "<style scoped>\n",
       "    .dataframe tbody tr th:only-of-type {\n",
       "        vertical-align: middle;\n",
       "    }\n",
       "\n",
       "    .dataframe tbody tr th {\n",
       "        vertical-align: top;\n",
       "    }\n",
       "\n",
       "    .dataframe thead th {\n",
       "        text-align: right;\n",
       "    }\n",
       "</style>\n",
       "<table border=\"1\" class=\"dataframe\">\n",
       "  <thead>\n",
       "    <tr style=\"text-align: right;\">\n",
       "      <th></th>\n",
       "      <th>index</th>\n",
       "      <th>missing_value</th>\n",
       "      <th>feature_type</th>\n",
       "    </tr>\n",
       "  </thead>\n",
       "  <tbody>\n",
       "    <tr>\n",
       "      <th>0</th>\n",
       "      <td>C_MNTH</td>\n",
       "      <td>0</td>\n",
       "      <td>object</td>\n",
       "    </tr>\n",
       "    <tr>\n",
       "      <th>1</th>\n",
       "      <td>C_WDAY</td>\n",
       "      <td>0</td>\n",
       "      <td>object</td>\n",
       "    </tr>\n",
       "    <tr>\n",
       "      <th>2</th>\n",
       "      <td>C_HOUR</td>\n",
       "      <td>0</td>\n",
       "      <td>object</td>\n",
       "    </tr>\n",
       "    <tr>\n",
       "      <th>3</th>\n",
       "      <td>C_RCFG</td>\n",
       "      <td>0</td>\n",
       "      <td>object</td>\n",
       "    </tr>\n",
       "    <tr>\n",
       "      <th>4</th>\n",
       "      <td>C_WTHR</td>\n",
       "      <td>0</td>\n",
       "      <td>object</td>\n",
       "    </tr>\n",
       "    <tr>\n",
       "      <th>5</th>\n",
       "      <td>C_RSUR</td>\n",
       "      <td>0</td>\n",
       "      <td>object</td>\n",
       "    </tr>\n",
       "    <tr>\n",
       "      <th>6</th>\n",
       "      <td>C_RALN</td>\n",
       "      <td>0</td>\n",
       "      <td>object</td>\n",
       "    </tr>\n",
       "    <tr>\n",
       "      <th>7</th>\n",
       "      <td>C_TRAF</td>\n",
       "      <td>0</td>\n",
       "      <td>object</td>\n",
       "    </tr>\n",
       "    <tr>\n",
       "      <th>8</th>\n",
       "      <td>V_TYPE</td>\n",
       "      <td>0</td>\n",
       "      <td>object</td>\n",
       "    </tr>\n",
       "    <tr>\n",
       "      <th>9</th>\n",
       "      <td>P_SAFE</td>\n",
       "      <td>0</td>\n",
       "      <td>object</td>\n",
       "    </tr>\n",
       "    <tr>\n",
       "      <th>10</th>\n",
       "      <td>V_YEAR</td>\n",
       "      <td>0</td>\n",
       "      <td>int64</td>\n",
       "    </tr>\n",
       "    <tr>\n",
       "      <th>11</th>\n",
       "      <td>C_YEAR</td>\n",
       "      <td>0</td>\n",
       "      <td>int64</td>\n",
       "    </tr>\n",
       "    <tr>\n",
       "      <th>12</th>\n",
       "      <td>P_AGE</td>\n",
       "      <td>0</td>\n",
       "      <td>int64</td>\n",
       "    </tr>\n",
       "    <tr>\n",
       "      <th>13</th>\n",
       "      <td>P_SEX</td>\n",
       "      <td>0</td>\n",
       "      <td>object</td>\n",
       "    </tr>\n",
       "    <tr>\n",
       "      <th>14</th>\n",
       "      <td>TARGET</td>\n",
       "      <td>0</td>\n",
       "      <td>int64</td>\n",
       "    </tr>\n",
       "  </tbody>\n",
       "</table>\n",
       "</div>"
      ],
      "text/plain": [
       "     index  missing_value feature_type\n",
       "0   C_MNTH              0       object\n",
       "1   C_WDAY              0       object\n",
       "2   C_HOUR              0       object\n",
       "3   C_RCFG              0       object\n",
       "4   C_WTHR              0       object\n",
       "5   C_RSUR              0       object\n",
       "6   C_RALN              0       object\n",
       "7   C_TRAF              0       object\n",
       "8   V_TYPE              0       object\n",
       "9   P_SAFE              0       object\n",
       "10  V_YEAR              0        int64\n",
       "11  C_YEAR              0        int64\n",
       "12   P_AGE              0        int64\n",
       "13   P_SEX              0       object\n",
       "14  TARGET              0        int64"
      ]
     },
     "execution_count": 23,
     "metadata": {},
     "output_type": "execute_result"
    }
   ],
   "source": [
    "#confirmamos que no hay nulos y el cambio de tipo a int\n",
    "no_nulos = pd.merge(df_data.isnull().sum(axis = 0).sort_values().to_frame('missing_value').reset_index(), \n",
    "                     df_data.dtypes.to_frame('feature_type').reset_index(),\n",
    "                     on = 'index', how = 'inner')\n",
    "no_nulos"
   ]
  },
  {
   "cell_type": "code",
   "execution_count": 24,
   "id": "6305dc04-867a-46d6-b609-9da8ce861dc6",
   "metadata": {},
   "outputs": [
    {
     "name": "stdout",
     "output_type": "stream",
     "text": [
      "8     0.091139\n",
      "7     0.089455\n",
      "6     0.089346\n",
      "10    0.088654\n",
      "9     0.088646\n",
      "12    0.088362\n",
      "1     0.086319\n",
      "11    0.085908\n",
      "5     0.080390\n",
      "2     0.073237\n",
      "3     0.071308\n",
      "4     0.067185\n",
      "50    0.000053\n",
      "Name: C_MNTH, dtype: float64\n",
      "5     0.171945\n",
      "4     0.155170\n",
      "3     0.148017\n",
      "2     0.146321\n",
      "1     0.137109\n",
      "6     0.134177\n",
      "7     0.107031\n",
      "52    0.000229\n",
      "Name: C_WDAY, dtype: float64\n",
      "16    0.090049\n",
      "17    0.086355\n",
      "15    0.083656\n",
      "14    0.067696\n",
      "12    0.063354\n",
      "13    0.062690\n",
      "18    0.061996\n",
      "8     0.056080\n",
      "11    0.052374\n",
      "19    0.045046\n",
      "10    0.044189\n",
      "9     0.041896\n",
      "7     0.040329\n",
      "20    0.034151\n",
      "21    0.031958\n",
      "22    0.025644\n",
      "6     0.020785\n",
      "23    0.019753\n",
      "0     0.013686\n",
      "2     0.011595\n",
      "1     0.011342\n",
      "50    0.010307\n",
      "3     0.009992\n",
      "5     0.008306\n",
      "4     0.006772\n",
      "Name: C_HOUR, dtype: float64\n",
      "2     0.469632\n",
      "1     0.355050\n",
      "50    0.085282\n",
      "3     0.048491\n",
      "56    0.024212\n",
      "5     0.009289\n",
      "4     0.004394\n",
      "8     0.002024\n",
      "6     0.001098\n",
      "9     0.000299\n",
      "7     0.000164\n",
      "10    0.000066\n",
      "Name: C_RCFG, dtype: float64\n",
      "1     0.694780\n",
      "2     0.105512\n",
      "3     0.100763\n",
      "4     0.060006\n",
      "52    0.014746\n",
      "6     0.014212\n",
      "5     0.005020\n",
      "7     0.002515\n",
      "55    0.002447\n",
      "Name: C_WTHR, dtype: float64\n",
      "1     0.657660\n",
      "2     0.183964\n",
      "5     0.054881\n",
      "3     0.045232\n",
      "55    0.027728\n",
      "52    0.013463\n",
      "4     0.012051\n",
      "6     0.003870\n",
      "7     0.000877\n",
      "8     0.000237\n",
      "9     0.000038\n",
      "Name: C_RSUR, dtype: float64\n",
      "1     0.714289\n",
      "2     0.099761\n",
      "52    0.070827\n",
      "3     0.061510\n",
      "4     0.037221\n",
      "5     0.006284\n",
      "55    0.005539\n",
      "6     0.004571\n",
      "Name: C_RALN, dtype: float64\n",
      "18    0.524116\n",
      "1     0.277190\n",
      "3     0.111770\n",
      "50    0.038424\n",
      "4     0.015752\n",
      "56    0.013856\n",
      "6     0.006826\n",
      "8     0.004138\n",
      "2     0.003271\n",
      "5     0.000759\n",
      "13    0.000700\n",
      "15    0.000680\n",
      "11    0.000626\n",
      "10    0.000455\n",
      "17    0.000417\n",
      "12    0.000388\n",
      "7     0.000379\n",
      "16    0.000152\n",
      "9     0.000101\n",
      "Name: C_TRAF, dtype: float64\n",
      "1     0.844789\n",
      "6     0.031147\n",
      "17    0.027208\n",
      "14    0.023992\n",
      "7     0.018805\n",
      "8     0.016274\n",
      "5     0.011675\n",
      "50    0.006572\n",
      "11    0.006333\n",
      "56    0.004546\n",
      "9     0.001794\n",
      "20    0.001688\n",
      "54    0.001615\n",
      "16    0.001298\n",
      "22    0.000788\n",
      "23    0.000472\n",
      "18    0.000443\n",
      "19    0.000367\n",
      "21    0.000102\n",
      "10    0.000092\n",
      "Name: V_TYPE, dtype: float64\n",
      "2     7.122720e-01\n",
      "50    1.129226e-01\n",
      "54    1.107808e-01\n",
      "1     2.520016e-02\n",
      "9     1.781647e-02\n",
      "56    9.026292e-03\n",
      "13    8.753756e-03\n",
      "12    3.210577e-03\n",
      "10    1.655593e-05\n",
      "11    7.641198e-07\n",
      "Name: P_SAFE, dtype: float64\n",
      "2100    6.608337e-02\n",
      "2000    5.655301e-02\n",
      "1998    5.160177e-02\n",
      "2002    5.129714e-02\n",
      "1999    5.047852e-02\n",
      "2003    4.900020e-02\n",
      "2001    4.890596e-02\n",
      "1997    4.596792e-02\n",
      "2005    3.994360e-02\n",
      "2004    3.941304e-02\n",
      "1995    3.932135e-02\n",
      "1996    3.446995e-02\n",
      "1994    3.400282e-02\n",
      "1992    3.360191e-02\n",
      "2006    3.355326e-02\n",
      "1993    3.268777e-02\n",
      "2007    3.250795e-02\n",
      "1991    2.948738e-02\n",
      "1990    2.773780e-02\n",
      "2008    2.585883e-02\n",
      "1989    2.437517e-02\n",
      "1988    2.122190e-02\n",
      "2009    1.862899e-02\n",
      "2010    1.614458e-02\n",
      "1987    1.452312e-02\n",
      "1986    1.216351e-02\n",
      "2011    1.132731e-02\n",
      "2102    1.026468e-02\n",
      "2012    8.987322e-03\n",
      "1985    8.083878e-03\n",
      "2013    6.151419e-03\n",
      "1984    5.741596e-03\n",
      "1983    3.271706e-03\n",
      "1981    2.983124e-03\n",
      "2014    2.464796e-03\n",
      "1982    2.446202e-03\n",
      "1980    2.078915e-03\n",
      "1979    1.536390e-03\n",
      "1978    1.075881e-03\n",
      "1977    8.023258e-04\n",
      "1976    5.183279e-04\n",
      "1975    3.998894e-04\n",
      "1974    3.036103e-04\n",
      "1973    2.654043e-04\n",
      "1972    2.547066e-04\n",
      "2015    2.114065e-04\n",
      "1970    1.726911e-04\n",
      "1969    1.597010e-04\n",
      "1971    1.563898e-04\n",
      "1968    1.372869e-04\n",
      "1967    1.207309e-04\n",
      "1966    9.016613e-05\n",
      "1965    7.437433e-05\n",
      "1964    4.661131e-05\n",
      "1963    3.081950e-05\n",
      "1962    2.750831e-05\n",
      "1960    2.343301e-05\n",
      "1959    1.681064e-05\n",
      "1957    1.502769e-05\n",
      "1961    1.502769e-05\n",
      "1956    1.426357e-05\n",
      "1939    1.400886e-05\n",
      "1958    1.349945e-05\n",
      "1955    1.349945e-05\n",
      "1950    9.169437e-06\n",
      "1952    8.660024e-06\n",
      "1947    7.386491e-06\n",
      "1949    7.386491e-06\n",
      "1951    7.386491e-06\n",
      "1953    7.131785e-06\n",
      "1954    6.877078e-06\n",
      "1948    6.367665e-06\n",
      "1938    5.858252e-06\n",
      "1920    5.858252e-06\n",
      "1930    5.603545e-06\n",
      "1940    4.839425e-06\n",
      "1931    4.584719e-06\n",
      "1928    4.075306e-06\n",
      "1915    4.075306e-06\n",
      "1946    3.820599e-06\n",
      "1945    3.565892e-06\n",
      "1926    3.311186e-06\n",
      "1937    3.311186e-06\n",
      "1919    3.056479e-06\n",
      "1914    2.801773e-06\n",
      "1935    2.547066e-06\n",
      "1929    2.547066e-06\n",
      "1941    2.547066e-06\n",
      "1944    2.292359e-06\n",
      "1933    2.292359e-06\n",
      "1925    2.292359e-06\n",
      "1901    2.292359e-06\n",
      "1923    2.292359e-06\n",
      "1934    2.037653e-06\n",
      "1942    2.037653e-06\n",
      "1918    1.782946e-06\n",
      "1922    1.782946e-06\n",
      "1911    1.782946e-06\n",
      "1932    1.782946e-06\n",
      "1927    1.528240e-06\n",
      "1912    1.528240e-06\n",
      "1916    1.273533e-06\n",
      "1917    1.018826e-06\n",
      "1921    1.018826e-06\n",
      "1903    1.018826e-06\n",
      "1943    7.641198e-07\n",
      "1908    7.641198e-07\n",
      "1924    7.641198e-07\n",
      "1913    5.094132e-07\n",
      "1936    5.094132e-07\n",
      "1907    5.094132e-07\n",
      "1904    5.094132e-07\n",
      "1909    5.094132e-07\n",
      "1905    2.547066e-07\n",
      "1910    2.547066e-07\n",
      "1906    2.547066e-07\n",
      "Name: V_YEAR, dtype: float64\n",
      "2000    0.071728\n",
      "2002    0.071468\n",
      "1999    0.069930\n",
      "2003    0.069761\n",
      "2001    0.069519\n",
      "2004    0.067055\n",
      "2005    0.066963\n",
      "2006    0.065196\n",
      "2007    0.063130\n",
      "2008    0.057719\n",
      "2009    0.055925\n",
      "2010    0.055811\n",
      "2012    0.054945\n",
      "2011    0.054857\n",
      "2013    0.054456\n",
      "2014    0.051537\n",
      "Name: C_YEAR, dtype: float64\n",
      "150    0.052392\n",
      "19     0.027071\n",
      "18     0.026777\n",
      "20     0.026266\n",
      "21     0.025263\n",
      "22     0.024132\n",
      "23     0.023232\n",
      "17     0.022549\n",
      "24     0.022133\n",
      "25     0.021652\n",
      "26     0.020699\n",
      "27     0.020117\n",
      "40     0.019759\n",
      "41     0.019677\n",
      "28     0.019673\n",
      "39     0.019579\n",
      "42     0.019576\n",
      "38     0.019394\n",
      "43     0.019387\n",
      "37     0.019327\n",
      "44     0.019245\n",
      "29     0.019123\n",
      "30     0.019041\n",
      "36     0.019038\n",
      "35     0.018994\n",
      "45     0.018922\n",
      "34     0.018734\n",
      "31     0.018706\n",
      "33     0.018669\n",
      "32     0.018560\n",
      "46     0.018424\n",
      "47     0.017911\n",
      "48     0.017534\n",
      "49     0.017009\n",
      "50     0.016272\n",
      "51     0.015877\n",
      "52     0.015122\n",
      "53     0.014587\n",
      "54     0.013767\n",
      "55     0.012979\n",
      "56     0.012207\n",
      "57     0.011475\n",
      "58     0.010818\n",
      "59     0.010149\n",
      "60     0.009410\n",
      "16     0.009261\n",
      "61     0.008717\n",
      "62     0.008120\n",
      "63     0.007557\n",
      "64     0.007080\n",
      "65     0.006512\n",
      "66     0.005984\n",
      "67     0.005561\n",
      "68     0.005211\n",
      "69     0.004857\n",
      "70     0.004694\n",
      "71     0.004441\n",
      "72     0.004233\n",
      "73     0.003983\n",
      "74     0.003818\n",
      "75     0.003575\n",
      "76     0.003445\n",
      "77     0.003235\n",
      "78     0.003005\n",
      "79     0.002820\n",
      "80     0.002483\n",
      "81     0.002175\n",
      "15     0.002157\n",
      "82     0.001929\n",
      "83     0.001704\n",
      "14     0.001664\n",
      "84     0.001409\n",
      "85     0.001180\n",
      "86     0.000968\n",
      "152    0.000894\n",
      "13     0.000763\n",
      "87     0.000746\n",
      "12     0.000611\n",
      "88     0.000562\n",
      "11     0.000478\n",
      "89     0.000415\n",
      "10     0.000402\n",
      "9      0.000361\n",
      "90     0.000309\n",
      "8      0.000289\n",
      "7      0.000239\n",
      "91     0.000192\n",
      "6      0.000173\n",
      "92     0.000128\n",
      "5      0.000109\n",
      "93     0.000078\n",
      "94     0.000049\n",
      "4      0.000047\n",
      "95     0.000030\n",
      "99     0.000027\n",
      "1      0.000024\n",
      "3      0.000018\n",
      "96     0.000017\n",
      "2      0.000017\n",
      "98     0.000010\n",
      "97     0.000007\n",
      "Name: P_AGE, dtype: float64\n",
      "0    0.599855\n",
      "1    0.359995\n",
      "8    0.039729\n",
      "9    0.000422\n",
      "Name: P_SEX, dtype: float64\n",
      "0    0.985432\n",
      "1    0.014568\n",
      "Name: TARGET, dtype: float64\n"
     ]
    }
   ],
   "source": [
    "for col in df_data:\n",
    "    print(df_data[col].value_counts(normalize=True))"
   ]
  },
  {
   "cell_type": "code",
   "execution_count": 38,
   "id": "02c43f69",
   "metadata": {},
   "outputs": [],
   "source": [
    "# nos guardamos la tabla a CSV\n",
    "df_data.to_csv('datos/df_data.csv', index=False)"
   ]
  },
  {
   "cell_type": "code",
   "execution_count": 26,
   "id": "b5381d1a",
   "metadata": {},
   "outputs": [],
   "source": [
    "# For kicks read our output back into Python and make sure all looks good\n",
    "#df_data = pd.read_csv('datos/df_data.csv', keep_default_na=False, na_values=[\"\"])"
   ]
  },
  {
   "cell_type": "code",
   "execution_count": 27,
   "id": "03a21b70-dcf5-4857-9c8c-a9eab69ba245",
   "metadata": {},
   "outputs": [
    {
     "data": {
      "text/html": [
       "<div>\n",
       "<style scoped>\n",
       "    .dataframe tbody tr th:only-of-type {\n",
       "        vertical-align: middle;\n",
       "    }\n",
       "\n",
       "    .dataframe tbody tr th {\n",
       "        vertical-align: top;\n",
       "    }\n",
       "\n",
       "    .dataframe thead th {\n",
       "        text-align: right;\n",
       "    }\n",
       "</style>\n",
       "<table border=\"1\" class=\"dataframe\">\n",
       "  <thead>\n",
       "    <tr style=\"text-align: right;\">\n",
       "      <th></th>\n",
       "      <th>C_MNTH</th>\n",
       "      <th>C_WDAY</th>\n",
       "      <th>C_HOUR</th>\n",
       "      <th>C_RCFG</th>\n",
       "      <th>C_WTHR</th>\n",
       "      <th>C_RSUR</th>\n",
       "      <th>C_RALN</th>\n",
       "      <th>C_TRAF</th>\n",
       "      <th>V_TYPE</th>\n",
       "      <th>P_SAFE</th>\n",
       "      <th>V_YEAR</th>\n",
       "      <th>C_YEAR</th>\n",
       "      <th>P_AGE</th>\n",
       "      <th>P_SEX</th>\n",
       "      <th>TARGET</th>\n",
       "    </tr>\n",
       "  </thead>\n",
       "  <tbody>\n",
       "    <tr>\n",
       "      <th>0</th>\n",
       "      <td>1</td>\n",
       "      <td>1</td>\n",
       "      <td>20</td>\n",
       "      <td>50</td>\n",
       "      <td>1</td>\n",
       "      <td>5</td>\n",
       "      <td>3</td>\n",
       "      <td>3</td>\n",
       "      <td>6</td>\n",
       "      <td>50</td>\n",
       "      <td>1990</td>\n",
       "      <td>1999</td>\n",
       "      <td>41</td>\n",
       "      <td>0</td>\n",
       "      <td>0</td>\n",
       "    </tr>\n",
       "    <tr>\n",
       "      <th>1</th>\n",
       "      <td>1</td>\n",
       "      <td>1</td>\n",
       "      <td>20</td>\n",
       "      <td>50</td>\n",
       "      <td>1</td>\n",
       "      <td>5</td>\n",
       "      <td>3</td>\n",
       "      <td>3</td>\n",
       "      <td>1</td>\n",
       "      <td>50</td>\n",
       "      <td>1987</td>\n",
       "      <td>1999</td>\n",
       "      <td>19</td>\n",
       "      <td>0</td>\n",
       "      <td>0</td>\n",
       "    </tr>\n",
       "    <tr>\n",
       "      <th>2</th>\n",
       "      <td>1</td>\n",
       "      <td>1</td>\n",
       "      <td>8</td>\n",
       "      <td>50</td>\n",
       "      <td>5</td>\n",
       "      <td>3</td>\n",
       "      <td>6</td>\n",
       "      <td>18</td>\n",
       "      <td>1</td>\n",
       "      <td>50</td>\n",
       "      <td>1986</td>\n",
       "      <td>1999</td>\n",
       "      <td>46</td>\n",
       "      <td>0</td>\n",
       "      <td>0</td>\n",
       "    </tr>\n",
       "    <tr>\n",
       "      <th>3</th>\n",
       "      <td>1</td>\n",
       "      <td>1</td>\n",
       "      <td>17</td>\n",
       "      <td>56</td>\n",
       "      <td>1</td>\n",
       "      <td>2</td>\n",
       "      <td>1</td>\n",
       "      <td>1</td>\n",
       "      <td>1</td>\n",
       "      <td>50</td>\n",
       "      <td>1984</td>\n",
       "      <td>1999</td>\n",
       "      <td>28</td>\n",
       "      <td>0</td>\n",
       "      <td>0</td>\n",
       "    </tr>\n",
       "    <tr>\n",
       "      <th>4</th>\n",
       "      <td>1</td>\n",
       "      <td>1</td>\n",
       "      <td>17</td>\n",
       "      <td>56</td>\n",
       "      <td>1</td>\n",
       "      <td>2</td>\n",
       "      <td>1</td>\n",
       "      <td>1</td>\n",
       "      <td>1</td>\n",
       "      <td>50</td>\n",
       "      <td>1991</td>\n",
       "      <td>1999</td>\n",
       "      <td>21</td>\n",
       "      <td>0</td>\n",
       "      <td>0</td>\n",
       "    </tr>\n",
       "  </tbody>\n",
       "</table>\n",
       "</div>"
      ],
      "text/plain": [
       "  C_MNTH C_WDAY C_HOUR C_RCFG C_WTHR C_RSUR C_RALN C_TRAF V_TYPE P_SAFE  \\\n",
       "0      1      1     20     50      1      5      3      3      6     50   \n",
       "1      1      1     20     50      1      5      3      3      1     50   \n",
       "2      1      1      8     50      5      3      6     18      1     50   \n",
       "3      1      1     17     56      1      2      1      1      1     50   \n",
       "4      1      1     17     56      1      2      1      1      1     50   \n",
       "\n",
       "   V_YEAR  C_YEAR  P_AGE P_SEX  TARGET  \n",
       "0    1990    1999     41     0       0  \n",
       "1    1987    1999     19     0       0  \n",
       "2    1986    1999     46     0       0  \n",
       "3    1984    1999     28     0       0  \n",
       "4    1991    1999     21     0       0  "
      ]
     },
     "execution_count": 27,
     "metadata": {},
     "output_type": "execute_result"
    }
   ],
   "source": [
    "df_data.head()"
   ]
  },
  {
   "cell_type": "code",
   "execution_count": 35,
   "id": "e963e131-5e23-494b-9a44-8f3099724dbc",
   "metadata": {},
   "outputs": [
    {
     "data": {
      "text/plain": [
       "C_MNTH    object\n",
       "C_WDAY    object\n",
       "C_HOUR    object\n",
       "C_RCFG    object\n",
       "C_WTHR    object\n",
       "C_RSUR    object\n",
       "C_RALN    object\n",
       "C_TRAF    object\n",
       "V_TYPE    object\n",
       "P_SAFE    object\n",
       "V_YEAR     int64\n",
       "C_YEAR     int64\n",
       "P_AGE      int64\n",
       "P_SEX     object\n",
       "TARGET     int64\n",
       "dtype: object"
      ]
     },
     "execution_count": 35,
     "metadata": {},
     "output_type": "execute_result"
    }
   ],
   "source": [
    "df_data.dtypes"
   ]
  },
  {
   "cell_type": "markdown",
   "id": "55a4b54c",
   "metadata": {},
   "source": [
    "### Análisis gráfico del resto de variables"
   ]
  },
  {
   "cell_type": "code",
   "execution_count": 28,
   "id": "fc9ec1ed",
   "metadata": {},
   "outputs": [],
   "source": [
    "def plot_feature(col_name, isNumeric): \n",
    "    \"\"\"\n",
    "    Visualize a variable with and without faceting on the fatalities yes/no. - col_name is the variable name in the dataframe\n",
    "    - full_name is the full variable name\n",
    "    - numeric is True if the variable is numeric, False otherwise \n",
    "    \"\"\"\n",
    "\n",
    "    f, (ax1, ax2) = plt.subplots(nrows=1, ncols=2, figsize=(12,3), dpi=90)\n",
    "\n",
    "    # Plot without TARGET\n",
    "    if isNumeric:\n",
    "        sns.distplot(df_data.loc[df_data[col_name].notnull(), col_name], kde=False, ax=ax1)\n",
    "    else:\n",
    "        sns.countplot(df_data[col_name], order=sorted(df_data[col_name].unique()), color='#5975A4', saturation=1, ax=ax1)\n",
    "    ax1.set_xlabel(col_name) \n",
    "    ax1.set_ylabel('Count') \n",
    "    ax1.set_title(col_name) \n",
    "\n",
    "    # Plot with TARGET\n",
    "    if isNumeric:\n",
    "        sns.kdeplot(x=df_data[col_name].loc[df_data['TARGET']== 0],\n",
    "           shade= True, label='no_fatalities')\n",
    "        sns.kdeplot(df_data[col_name].loc[df_data['TARGET']== 1],\n",
    "            shade= True, label='fatalities')\n",
    "        plt.legend()\n",
    "        ax2.set_ylabel('')\n",
    "        ax2.set_title(col_name + ' by TARGET')\n",
    "        \n",
    "    \n",
    "    else:\n",
    "        plt_data = df_data.groupby(col_name)['TARGET'].value_counts(normalize=True).to_frame('proportion').reset_index() \n",
    "        sns.barplot(x = col_name, y = 'proportion', hue= \"TARGET\", data = plt_data, saturation=1, ax=ax2) \n",
    "        ax2.set_ylabel('TARGET fraction')\n",
    "        ax2.set_title('TARGET')\n",
    "        ax2.set_xlabel(col_name) \n",
    "    plt.tight_layout()\n"
   ]
  },
  {
   "cell_type": "code",
   "execution_count": 29,
   "id": "f7552703-8d0d-47ee-9e55-32379a933d5c",
   "metadata": {},
   "outputs": [
    {
     "data": {
      "text/plain": [
       "Index(['C_MNTH', 'C_WDAY', 'C_HOUR', 'C_RCFG', 'C_WTHR', 'C_RSUR', 'C_RALN',\n",
       "       'C_TRAF', 'V_TYPE', 'P_SAFE', 'V_YEAR', 'C_YEAR', 'P_AGE', 'P_SEX',\n",
       "       'TARGET'],\n",
       "      dtype='object')"
      ]
     },
     "execution_count": 29,
     "metadata": {},
     "output_type": "execute_result"
    }
   ],
   "source": [
    "df_data.columns"
   ]
  },
  {
   "cell_type": "code",
   "execution_count": 30,
   "id": "7faa0454",
   "metadata": {},
   "outputs": [],
   "source": [
    "df_cat = df_data[[\"C_MNTH\", \"C_WDAY\", \"C_HOUR\", \"C_RCFG\", \"C_WTHR\", \"C_RSUR\", \"C_RALN\", \"C_TRAF\", \"V_TYPE\", \"P_SAFE\", \"P_SEX\"]]"
   ]
  },
  {
   "cell_type": "code",
   "execution_count": 31,
   "id": "000a4bd8",
   "metadata": {},
   "outputs": [
    {
     "data": {
      "image/png": "[encoded data removed]",
      "text/plain": [
       "<Figure size 1080x270 with 2 Axes>"
      ]
     },
     "metadata": {
      "needs_background": "light"
     },
     "output_type": "display_data"
    },
    {
     "data": {
      "image/png": "[encoded data removed]",
      "text/plain": [
       "<Figure size 1080x270 with 2 Axes>"
      ]
     },
     "metadata": {
      "needs_background": "light"
     },
     "output_type": "display_data"
    },
    {
     "data": {
      "image/png": "[encoded data removed]",
      "text/plain": [
       "<Figure size 1080x270 with 2 Axes>"
      ]
     },
     "metadata": {
      "needs_background": "light"
     },
     "output_type": "display_data"
    },
    {
     "data": {
      "image/png": "[encoded data removed]",
      "text/plain": [
       "<Figure size 1080x270 with 2 Axes>"
      ]
     },
     "metadata": {
      "needs_background": "light"
     },
     "output_type": "display_data"
    },
    {
     "data": {
      "image/png": "[encoded data removed]",
      "text/plain": [
       "<Figure size 1080x270 with 2 Axes>"
      ]
     },
     "metadata": {
      "needs_background": "light"
     },
     "output_type": "display_data"
    },
    {
     "data": {
      "image/png": "[encoded data removed]",
      "text/plain": [
       "<Figure size 1080x270 with 2 Axes>"
      ]
     },
     "metadata": {
      "needs_background": "light"
     },
     "output_type": "display_data"
    },
    {
     "data": {
      "image/png": "[encoded data removed]",
      "text/plain": [
       "<Figure size 1080x270 with 2 Axes>"
      ]
     },
     "metadata": {
      "needs_background": "light"
     },
     "output_type": "display_data"
    },
    {
     "data": {
      "image/png": "[encoded data removed]",
      "text/plain": [
       "<Figure size 1080x270 with 2 Axes>"
      ]
     },
     "metadata": {
      "needs_background": "light"
     },
     "output_type": "display_data"
    },
    {
     "data": {
      "image/png": "[encoded data removed]",
      "text/plain": [
       "<Figure size 1080x270 with 2 Axes>"
      ]
     },
     "metadata": {
      "needs_background": "light"
     },
     "output_type": "display_data"
    },
    {
     "data": {
      "image/png": "[encoded data removed]",
      "text/plain": [
       "<Figure size 1080x270 with 2 Axes>"
      ]
     },
     "metadata": {
      "needs_background": "light"
     },
     "output_type": "display_data"
    },
    {
     "data": {
      "image/png": "[encoded data removed]",
      "text/plain": [
       "<Figure size 1080x270 with 2 Axes>"
      ]
     },
     "metadata": {
      "needs_background": "light"
     },
     "output_type": "display_data"
    }
   ],
   "source": [
    "for col in df_cat:\n",
    "    plot_feature(col, False)"
   ]
  },
  {
   "cell_type": "code",
   "execution_count": 32,
   "id": "e441f389",
   "metadata": {},
   "outputs": [
    {
     "data": {
      "image/png": "[encoded data removed]",
      "text/plain": [
       "<Figure size 1080x270 with 2 Axes>"
      ]
     },
     "metadata": {
      "needs_background": "light"
     },
     "output_type": "display_data"
    },
    {
     "data": {
      "image/png": "[encoded data removed]",
      "text/plain": [
       "<Figure size 1080x270 with 2 Axes>"
      ]
     },
     "metadata": {
      "needs_background": "light"
     },
     "output_type": "display_data"
    },
    {
     "data": {
      "image/png": "[encoded data removed]",
      "text/plain": [
       "<Figure size 1080x270 with 2 Axes>"
      ]
     },
     "metadata": {
      "needs_background": "light"
     },
     "output_type": "display_data"
    }
   ],
   "source": [
    "df_num = df_data[['V_YEAR', 'P_AGE', 'C_YEAR']]\n",
    "\n",
    "for col in df_num:\n",
    "    plot_feature(col, True)"
   ]
  },
  {
   "cell_type": "code",
   "execution_count": 33,
   "id": "23bfc37b",
   "metadata": {},
   "outputs": [
    {
     "data": {
      "image/png": "[encoded data removed]",
      "text/plain": [
       "<Figure size 1080x270 with 1 Axes>"
      ]
     },
     "metadata": {
      "needs_background": "light"
     },
     "output_type": "display_data"
    },
    {
     "data": {
      "image/png": "[encoded data removed]",
      "text/plain": [
       "<Figure size 1080x270 with 1 Axes>"
      ]
     },
     "metadata": {
      "needs_background": "light"
     },
     "output_type": "display_data"
    },
    {
     "data": {
      "image/png": "[encoded data removed]",
      "text/plain": [
       "<Figure size 1080x270 with 1 Axes>"
      ]
     },
     "metadata": {
      "needs_background": "light"
     },
     "output_type": "display_data"
    }
   ],
   "source": [
    "# Plot boxplots\n",
    "for col in df_num:\n",
    "    f, ax1 = plt.subplots(figsize=(12,3), dpi=90)\n",
    "    ax = sns.boxplot(x=col, y='TARGET', data=df_data, orient=\"h\")\n",
    "    ax.get_yaxis().set_visible(True)"
   ]
  },
  {
   "cell_type": "markdown",
   "id": "e55234b2",
   "metadata": {},
   "source": [
    "### Medidas de asociacion entre las variablies categoricas: cramers_v"
   ]
  },
  {
   "cell_type": "code",
   "execution_count": 34,
   "id": "0b90b66e",
   "metadata": {},
   "outputs": [
    {
     "data": {
      "image/png": "[encoded data removed]",
      "text/plain": [
       "<Figure size 1080x1080 with 2 Axes>"
      ]
     },
     "metadata": {
      "needs_background": "light"
     },
     "output_type": "display_data"
    },
    {
     "data": {
      "text/plain": [
       "{'corr':           C_MNTH    C_WDAY    C_HOUR    C_RCFG    C_WTHR    C_RSUR    C_RALN  \\\n",
       " C_MNTH  1.000000  0.020906  0.020242 -0.002399 -0.007910 -0.040358 -0.004737   \n",
       " C_WDAY  0.020906  1.000000  0.006097  0.002401  0.000589 -0.003143 -0.005046   \n",
       " C_HOUR  0.020242  0.006097  1.000000  0.006172  0.006222 -0.009705  0.004767   \n",
       " C_RCFG -0.002399  0.002401  0.006172  1.000000  0.155620  0.225975  0.641408   \n",
       " C_WTHR -0.007910  0.000589  0.006222  0.155620  1.000000  0.418858  0.269157   \n",
       " C_RSUR -0.040358 -0.003143 -0.009705  0.225975  0.418858  1.000000  0.328008   \n",
       " C_RALN -0.004737 -0.005046  0.004767  0.641408  0.269157  0.328008  1.000000   \n",
       " C_TRAF  0.002205  0.015145 -0.010318  0.201545  0.161749  0.119248  0.129725   \n",
       " V_TYPE  0.009132 -0.003745  0.011106 -0.000122  0.010652 -0.012018 -0.025891   \n",
       " P_SAFE  0.003117  0.014274  0.022120  0.004052  0.012922 -0.037260 -0.046449   \n",
       " V_YEAR  0.021267 -0.009257  0.019838  0.028137 -0.004945 -0.030596 -0.044936   \n",
       " C_YEAR -0.000029 -0.014576 -0.011822 -0.034953 -0.012367  0.006406 -0.036166   \n",
       " P_AGE   0.006989 -0.017275  0.001400 -0.011292 -0.000413 -0.025706 -0.030047   \n",
       " P_SEX   0.005964 -0.007351  0.011532  0.037533  0.005365 -0.012323 -0.015182   \n",
       " TARGET  0.005711  0.014955 -0.011803 -0.008193 -0.003058  0.000565 -0.016882   \n",
       " \n",
       "           C_TRAF    V_TYPE    P_SAFE    V_YEAR    C_YEAR     P_AGE     P_SEX  \\\n",
       " C_MNTH  0.002205  0.009132  0.003117  0.021267 -0.000029  0.006989  0.005964   \n",
       " C_WDAY  0.015145 -0.003745  0.014274 -0.009257 -0.014576 -0.017275 -0.007351   \n",
       " C_HOUR -0.010318  0.011106  0.022120  0.019838 -0.011822  0.001400  0.011532   \n",
       " C_RCFG  0.201545 -0.000122  0.004052  0.028137 -0.034953 -0.011292  0.037533   \n",
       " C_WTHR  0.161749  0.010652  0.012922 -0.004945 -0.012367 -0.000413  0.005365   \n",
       " C_RSUR  0.119248 -0.012018 -0.037260 -0.030596  0.006406 -0.025706 -0.012323   \n",
       " C_RALN  0.129725 -0.025891 -0.046449 -0.044936 -0.036166 -0.030047 -0.015182   \n",
       " C_TRAF  1.000000  0.047986  0.029835  0.031348  0.010278 -0.013281  0.003526   \n",
       " V_TYPE  0.047986  1.000000  0.170777  0.348722 -0.002665  0.174033  0.123455   \n",
       " P_SAFE  0.029835  0.170777  1.000000  0.239227 -0.038957  0.254749  0.244227   \n",
       " V_YEAR  0.031348  0.348722  0.239227  1.000000  0.140847  0.348406  0.304643   \n",
       " C_YEAR  0.010278 -0.002665 -0.038957  0.140847  1.000000  0.038258  0.008871   \n",
       " P_AGE  -0.013281  0.174033  0.254749  0.348406  0.038258  1.000000  0.521240   \n",
       " P_SEX   0.003526  0.123455  0.244227  0.304643  0.008871  0.521240  1.000000   \n",
       " TARGET  0.035952  0.019085 -0.005245 -0.007264 -0.005188 -0.005231 -0.021907   \n",
       " \n",
       "           TARGET  \n",
       " C_MNTH  0.005711  \n",
       " C_WDAY  0.014955  \n",
       " C_HOUR -0.011803  \n",
       " C_RCFG -0.008193  \n",
       " C_WTHR -0.003058  \n",
       " C_RSUR  0.000565  \n",
       " C_RALN -0.016882  \n",
       " C_TRAF  0.035952  \n",
       " V_TYPE  0.019085  \n",
       " P_SAFE -0.005245  \n",
       " V_YEAR -0.007264  \n",
       " C_YEAR -0.005188  \n",
       " P_AGE  -0.005231  \n",
       " P_SEX  -0.021907  \n",
       " TARGET  1.000000  ,\n",
       " 'ax': <AxesSubplot:>}"
      ]
     },
     "execution_count": 34,
     "metadata": {},
     "output_type": "execute_result"
    }
   ],
   "source": [
    "# Plot features associations\n",
    "\n",
    "associations(df_data, nom_nom_assoc='cramer', figsize=(15, 15))"
   ]
  },
  {
   "cell_type": "markdown",
   "id": "1164793e",
   "metadata": {},
   "source": [
    "### Dividimos el dataset en train y test\n",
    "Dividimos el dataset en train y test manteniendo la proporción de la variable objetivo en las dos partes (separación estratificada)"
   ]
  },
  {
   "cell_type": "code",
   "execution_count": 46,
   "id": "1725e666",
   "metadata": {},
   "outputs": [],
   "source": [
    "X = df_data.drop('TARGET',axis=1)\n",
    "y = df_data['TARGET']"
   ]
  },
  {
   "cell_type": "code",
   "execution_count": 47,
   "id": "ca497aee",
   "metadata": {},
   "outputs": [],
   "source": [
    "X_train, X_test, y_train, y_test = train_test_split(X, y, stratify=y, shuffle=True, test_size=0.20, random_state=0)"
   ]
  },
  {
   "cell_type": "code",
   "execution_count": 48,
   "id": "e892556e",
   "metadata": {},
   "outputs": [
    {
     "name": "stdout",
     "output_type": "stream",
     "text": [
      "0    0.985431\n",
      "1    0.014569\n",
      "Name: TARGET, dtype: float64\n",
      "0    0.985432\n",
      "1    0.014568\n",
      "Name: TARGET, dtype: float64\n"
     ]
    }
   ],
   "source": [
    "#comprobación de la estratificación\n",
    "print(y_train.value_counts(normalize=True))\n",
    "print(y_test.value_counts(normalize=True))"
   ]
  },
  {
   "cell_type": "markdown",
   "id": "3d4c6384-659c-4bef-8042-69a16c40b0ef",
   "metadata": {},
   "source": [
    "### Modelo base (decisión al azar)"
   ]
  },
  {
   "cell_type": "markdown",
   "id": "9a9050af-4ec5-4e3c-b40a-d5102b0f523d",
   "metadata": {},
   "source": [
    "Usaremos este estimador para comparar el resultado con el de nuestros modelos más avanzados. Para que los modelos que utilizaremos posteriormente sean válidos deben alcanzar una métrica superior a la de este estimador:"
   ]
  },
  {
   "cell_type": "code",
   "execution_count": 49,
   "id": "a4a10ead-62d5-498b-8e2e-328ad51b4b07",
   "metadata": {},
   "outputs": [],
   "source": [
    "#librerias hay que moverlas\n",
    "from sklearn.dummy import DummyClassifier\n",
    "from collections import Counter\n",
    "\n",
    "from sklearn.metrics import accuracy_score, f1_score, recall_score, precision_score"
   ]
  },
  {
   "cell_type": "code",
   "execution_count": 50,
   "id": "29177c9d-1184-41c4-808f-662df0f37886",
   "metadata": {},
   "outputs": [],
   "source": [
    "def print_binary_evaluation(y_true, y_pred):\n",
    "    results_dict = {'accuracy': accuracy_score(y_true, y_pred),\n",
    "                    'recall': recall_score(y_true, y_pred),\n",
    "                    'precision': precision_score(y_true, y_pred),\n",
    "                    'f1_score': f1_score(y_true, y_pred)}\n",
    "    return results_dict"
   ]
  },
  {
   "cell_type": "code",
   "execution_count": 51,
   "id": "e3122851-3030-4bae-af91-c729ee732ca9",
   "metadata": {},
   "outputs": [
    {
     "data": {
      "text/plain": [
       "{'accuracy': 0.014567928906367404,\n",
       " 'recall': 1.0,\n",
       " 'precision': 0.014567928906367404,\n",
       " 'f1_score': 0.02871750326677604}"
      ]
     },
     "execution_count": 51,
     "metadata": {},
     "output_type": "execute_result"
    }
   ],
   "source": [
    "dummy_clf = DummyClassifier(strategy='constant', constant=1)\n",
    "dummy_clf.fit(X_train, y_train)\n",
    "y_pred = dummy_clf.predict(X_test)\n",
    "print_binary_evaluation(y_test, y_pred)"
   ]
  },
  {
   "cell_type": "markdown",
   "id": "fc4db0a4-83e0-4673-9f9a-8c59a4979aae",
   "metadata": {},
   "source": [
    "Con este modelo 'tonto' le indicamos al algoritmo que sin tener en cuenta ningún patrón ni valor entre nuestras variables explicativas, prediga nuestra clase no mayoritaria, en este caso 1. Como observamos obtenemos una f1_score muy baja que nos idicarían que las predicciones no son fiables usando éste método 'al azar'. "
   ]
  }
 ],
 "metadata": {
  "kernelspec": {
   "display_name": "Python 3 (ipykernel)",
   "language": "python",
   "name": "python3"
  },
  "language_info": {
   "codemirror_mode": {
    "name": "ipython",
    "version": 3
   },
   "file_extension": ".py",
   "mimetype": "text/x-python",
   "name": "python",
   "nbconvert_exporter": "python",
   "pygments_lexer": "ipython3",
   "version": "3.9.7"
  }
 },
 "nbformat": 4,
 "nbformat_minor": 5
}
